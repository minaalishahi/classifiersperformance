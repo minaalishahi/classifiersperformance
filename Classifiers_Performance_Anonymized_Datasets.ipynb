{
 "cells": [
  {
   "cell_type": "code",
   "execution_count": 84,
   "metadata": {},
   "outputs": [],
   "source": [
    "#The implemetation of k-anonymity, l-diversity, and t-closeness has been used from the codes provided in \n",
    "# https://github.com/Nuclearstar/K-Anonymity"
   ]
  },
  {
   "cell_type": "markdown",
   "metadata": {},
   "source": [
    "# Import dataset"
   ]
  },
  {
   "cell_type": "code",
   "execution_count": null,
   "metadata": {},
   "outputs": [],
   "source": [
    "import pandas as pd\n",
    "import numpy as np"
   ]
  },
  {
   "cell_type": "code",
   "execution_count": 85,
   "metadata": {},
   "outputs": [],
   "source": [
    "# this is a list of the column names in our dataset (as the file doesn't contain any headers)\n",
    "names = (\n",
    "    'A1', 'A2',    'A3',  'A4',   'A5',  'A6',  'A7',  'A8', 'A9', 'A10', 'A11',\n",
    "    'A12', 'A13',  'A14', 'A15', 'A16', 'A17',  'A18', 'A19',  'A20', 'A21', 'A22', 'A23', 'A24', 'A25', 'A26', 'A27',\n",
    "    'A28', 'A29', 'A30', 'A31', 'A32', 'A33', 'A34', 'A35', 'A36', 'A37', 'A38', 'A39',\n",
    "    'A40', 'A41', 'A42', 'A43', 'A44', 'A45', 'A46', 'A47', 'A48', 'A49', 'A50', 'A51',  'A52', 'A53', 'A54', 'A55', 'A56', 'A57',\n",
    "    'A58', 'A59', 'A60', 'A61', 'A62', 'A63', 'A64',\n",
    "    'class',\n",
    "    )\n",
    "\n",
    "# some fields are categorical and will require special treatment\n",
    "categorical = set((\n",
    "    'class',\n",
    "))\n",
    "df = pd.read_csv(\"optdigits.txt\", sep=\",\", header=None, names=names, index_col=False, engine='python');# We load the data using Pandas"
   ]
  },
  {
   "cell_type": "code",
   "execution_count": 86,
   "metadata": {},
   "outputs": [
    {
     "data": {
      "text/plain": [
       "(3823, 65)"
      ]
     },
     "execution_count": 86,
     "metadata": {},
     "output_type": "execute_result"
    }
   ],
   "source": [
    "df.shape"
   ]
  },
  {
   "cell_type": "code",
   "execution_count": 87,
   "metadata": {},
   "outputs": [
    {
     "data": {
      "text/plain": [
       "(array([0, 1, 2, 3, 4, 5, 6, 7, 8, 9], dtype=int64),\n",
       " array([376, 389, 380, 389, 387, 376, 377, 387, 380, 382], dtype=int64))"
      ]
     },
     "execution_count": 87,
     "metadata": {},
     "output_type": "execute_result"
    }
   ],
   "source": [
    "np.unique(df['class'], return_counts=True)"
   ]
  },
  {
   "cell_type": "code",
   "execution_count": 6,
   "metadata": {},
   "outputs": [
    {
     "data": {
      "text/plain": [
       "A1       int64\n",
       "A2       int64\n",
       "A3       int64\n",
       "A4       int64\n",
       "A5       int64\n",
       "         ...  \n",
       "A61      int64\n",
       "A62      int64\n",
       "A63      int64\n",
       "A64      int64\n",
       "class    int64\n",
       "Length: 65, dtype: object"
      ]
     },
     "execution_count": 6,
     "metadata": {},
     "output_type": "execute_result"
    }
   ],
   "source": [
    "df.dtypes"
   ]
  },
  {
   "cell_type": "code",
   "execution_count": 8,
   "metadata": {},
   "outputs": [],
   "source": [
    "for name in categorical:\n",
    "    df[name] = df[name].astype('category')"
   ]
  },
  {
   "cell_type": "markdown",
   "metadata": {},
   "source": [
    "# k-anonymity"
   ]
  },
  {
   "cell_type": "code",
   "execution_count": 9,
   "metadata": {},
   "outputs": [],
   "source": [
    "def get_spans(df, partition, scale=None):\n",
    "    \"\"\"\n",
    "    :param        df: the dataframe for which to calculate the spans\n",
    "    :param partition: the partition for which to calculate the spans\n",
    "    :param     scale: if given, the spans of each column will be divided\n",
    "                      by the value in `scale` for that column\n",
    "    :        returns: The spans of all columns in the partition\n",
    "    \"\"\"\n",
    "    spans = {}\n",
    "    for column in df.columns:\n",
    "        if column in categorical:\n",
    "            span = len(df[column][partition].unique())\n",
    "        else:\n",
    "            span = df[column][partition].max()-df[column][partition].min()\n",
    "        if scale is not None:\n",
    "            span = span/scale[column]\n",
    "        spans[column] = span\n",
    "    return spans"
   ]
  },
  {
   "cell_type": "code",
   "execution_count": 10,
   "metadata": {},
   "outputs": [
    {
     "data": {
      "text/plain": [
       "{'A1': 0,\n",
       " 'A2': 8,\n",
       " 'A3': 16,\n",
       " 'A4': 16,\n",
       " 'A5': 16,\n",
       " 'A6': 16,\n",
       " 'A7': 16,\n",
       " 'A8': 16,\n",
       " 'A9': 5,\n",
       " 'A10': 15,\n",
       " 'A11': 16,\n",
       " 'A12': 16,\n",
       " 'A13': 16,\n",
       " 'A14': 16,\n",
       " 'A15': 16,\n",
       " 'A16': 15,\n",
       " 'A17': 5,\n",
       " 'A18': 16,\n",
       " 'A19': 16,\n",
       " 'A20': 16,\n",
       " 'A21': 16,\n",
       " 'A22': 16,\n",
       " 'A23': 16,\n",
       " 'A24': 8,\n",
       " 'A25': 1,\n",
       " 'A26': 16,\n",
       " 'A27': 16,\n",
       " 'A28': 16,\n",
       " 'A29': 16,\n",
       " 'A30': 16,\n",
       " 'A31': 16,\n",
       " 'A32': 2,\n",
       " 'A33': 1,\n",
       " 'A34': 15,\n",
       " 'A35': 16,\n",
       " 'A36': 16,\n",
       " 'A37': 16,\n",
       " 'A38': 16,\n",
       " 'A39': 14,\n",
       " 'A40': 0,\n",
       " 'A41': 7,\n",
       " 'A42': 16,\n",
       " 'A43': 16,\n",
       " 'A44': 16,\n",
       " 'A45': 16,\n",
       " 'A46': 16,\n",
       " 'A47': 16,\n",
       " 'A48': 6,\n",
       " 'A49': 10,\n",
       " 'A50': 16,\n",
       " 'A51': 16,\n",
       " 'A52': 16,\n",
       " 'A53': 16,\n",
       " 'A54': 16,\n",
       " 'A55': 16,\n",
       " 'A56': 12,\n",
       " 'A57': 1,\n",
       " 'A58': 10,\n",
       " 'A59': 16,\n",
       " 'A60': 16,\n",
       " 'A61': 16,\n",
       " 'A62': 16,\n",
       " 'A63': 16,\n",
       " 'A64': 16,\n",
       " 'class': 10}"
      ]
     },
     "execution_count": 10,
     "metadata": {},
     "output_type": "execute_result"
    }
   ],
   "source": [
    "full_spans = get_spans(df, df.index)\n",
    "full_spans"
   ]
  },
  {
   "cell_type": "code",
   "execution_count": 11,
   "metadata": {},
   "outputs": [],
   "source": [
    "def split(df, partition, column):\n",
    "    \"\"\"\n",
    "    :param        df: The dataframe to split\n",
    "    :param partition: The partition to split\n",
    "    :param    column: The column along which to split\n",
    "    :        returns: A tuple containing a split of the original partition\n",
    "    \"\"\"\n",
    "    dfp = df[column][partition]\n",
    "    if column in categorical:\n",
    "        values = dfp.unique()\n",
    "        lv = set(values[:len(values)//2])\n",
    "        rv = set(values[len(values)//2:])\n",
    "        return dfp.index[dfp.isin(lv)], dfp.index[dfp.isin(rv)]\n",
    "    else:        \n",
    "        median = dfp.median()\n",
    "        dfl = dfp.index[dfp < median]\n",
    "        dfr = dfp.index[dfp >= median]\n",
    "        return (dfl, dfr)"
   ]
  },
  {
   "cell_type": "code",
   "execution_count": 17,
   "metadata": {},
   "outputs": [],
   "source": [
    "def is_k_anonymous(df, partition, sensitive_column, k=3):\n",
    "    \"\"\"\n",
    "    :param               df: The dataframe on which to check the partition.\n",
    "    :param        partition: The partition of the dataframe to check.\n",
    "    :param sensitive_column: The name of the sensitive column\n",
    "    :param                k: The desired k\n",
    "    :returns               : True if the partition is valid according to our k-anonymity criteria, False otherwise.\n",
    "    \"\"\"\n",
    "    if len(partition) < k:\n",
    "        return False\n",
    "    return True\n",
    "\n",
    "def partition_dataset(df, feature_columns, sensitive_column, scale, is_valid):\n",
    "    \"\"\"\n",
    "    :param               df: The dataframe to be partitioned.\n",
    "    :param  feature_columns: A list of column names along which to partition the dataset.\n",
    "    :param sensitive_column: The name of the sensitive column (to be passed on to the `is_valid` function)\n",
    "    :param            scale: The column spans as generated before.\n",
    "    :param         is_valid: A function that takes a dataframe and a partition and returns True if the partition is valid.\n",
    "    :returns               : A list of valid partitions that cover the entire dataframe.\n",
    "    \"\"\"\n",
    "    finished_partitions = []\n",
    "    partitions = [df.index]\n",
    "    while partitions:\n",
    "        partition = partitions.pop(0)\n",
    "        spans = get_spans(df[feature_columns], partition, scale)\n",
    "        for column, span in sorted(spans.items(), key=lambda x:-x[1]):\n",
    "            lp, rp = split(df, partition, column)\n",
    "            if not is_valid(df, lp, sensitive_column) or not is_valid(df, rp, sensitive_column):\n",
    "                continue\n",
    "            partitions.extend((lp, rp))\n",
    "            break\n",
    "        else:\n",
    "            finished_partitions.append(partition)\n",
    "    return finished_partitions"
   ]
  },
  {
   "cell_type": "code",
   "execution_count": 18,
   "metadata": {},
   "outputs": [],
   "source": [
    "# we apply our partitioning method to two columns of our dataset, using \"income\" as the sensitive attribute\n",
    "feature_columns = [ 'A2',    'A3',  'A4',   'A5',  'A6',  'A7',  'A8', 'A9', 'A10', 'A11',\n",
    "    'A12', 'A13',  'A14', 'A15', 'A16', 'A17',  'A18', 'A19',  'A20', 'A21', 'A22', 'A23', 'A24', 'A25', 'A26', 'A27',\n",
    "    'A28', 'A29', 'A30', 'A31', 'A32', 'A33', 'A34', 'A35', 'A36', 'A37', 'A38', 'A39', 'A41', 'A42', 'A43', 'A44', 'A45', 'A46', 'A47', 'A48', 'A49', 'A50', 'A51',  'A52', 'A53', 'A54', 'A55', 'A56', 'A57',\n",
    "    'A58', 'A59', 'A60', 'A61', 'A62', 'A63', 'A64']      \n",
    "sensitive_column = 'class'\n",
    "finished_partitions = partition_dataset(df, feature_columns, sensitive_column, full_spans, is_k_anonymous)"
   ]
  },
  {
   "cell_type": "code",
   "execution_count": 19,
   "metadata": {},
   "outputs": [
    {
     "data": {
      "text/plain": [
       "1027"
      ]
     },
     "execution_count": 19,
     "metadata": {},
     "output_type": "execute_result"
    }
   ],
   "source": [
    "# we get the number of partitions that were created\n",
    "len(finished_partitions)"
   ]
  },
  {
   "cell_type": "code",
   "execution_count": 20,
   "metadata": {},
   "outputs": [],
   "source": [
    "import matplotlib.pylab as pl\n",
    "import matplotlib.patches as patches"
   ]
  },
  {
   "cell_type": "code",
   "execution_count": 21,
   "metadata": {},
   "outputs": [],
   "source": [
    "def build_indexes(df):\n",
    "    indexes = {}\n",
    "    for column in categorical:\n",
    "        values = sorted(df[column].unique())\n",
    "        indexes[column] = { x : y for x, y in zip(values, range(len(values)))}\n",
    "    return indexes\n",
    "\n",
    "def get_coords(df, column, partition, indexes, offset=0.1):\n",
    "    if column in categorical:\n",
    "        sv = df[column][partition].sort_values()\n",
    "        l, r = indexes[column][sv[sv.index[0]]], indexes[column][sv[sv.index[-1]]]+1.0\n",
    "    else:\n",
    "        sv = df[column][partition].sort_values()\n",
    "        next_value = sv[sv.index[-1]]\n",
    "        larger_values = df[df[column] > next_value][column]\n",
    "        if len(larger_values) > 0:\n",
    "            next_value = larger_values.min()\n",
    "        l = sv[sv.index[0]]\n",
    "        r = next_value\n",
    "    # we add some offset to make the partitions more easily visible\n",
    "    l -= offset\n",
    "    r += offset\n",
    "    return l, r\n",
    "\n",
    "def get_partition_rects(df, partitions, column_x, column_y, indexes, offsets=[0.1, 0.1]):\n",
    "    rects = []\n",
    "    for partition in partitions:\n",
    "        xl, xr = get_coords(df, column_x, partition, indexes, offset=offsets[0])\n",
    "        yl, yr = get_coords(df, column_y, partition, indexes, offset=offsets[1])\n",
    "        rects.append(((xl, yl),(xr, yr)))\n",
    "    return rects\n",
    "\n",
    "def get_bounds(df, column, indexes, offset=1.0):\n",
    "    if column in categorical:\n",
    "        return 0-offset, len(indexes[column])+offset\n",
    "    return df[column].min()-offset, df[column].max()+offset"
   ]
  },
  {
   "cell_type": "code",
   "execution_count": 22,
   "metadata": {},
   "outputs": [],
   "source": [
    "# we calculate the bounding rects of all partitions that we created\n",
    "indexes = build_indexes(df)\n",
    "column_x, column_y = feature_columns[:2]\n",
    "rects = get_partition_rects(df, finished_partitions, column_x, column_y, indexes, offsets=[0.0, 0.0])"
   ]
  },
  {
   "cell_type": "code",
   "execution_count": 23,
   "metadata": {},
   "outputs": [
    {
     "data": {
      "text/plain": [
       "[((0.0, 0.0), (1.0, 1.0)),\n",
       " ((0.0, 0.0), (1.0, 1.0)),\n",
       " ((0.0, 0.0), (1.0, 1.0)),\n",
       " ((0.0, 0.0), (1.0, 1.0)),\n",
       " ((0.0, 0.0), (1.0, 1.0)),\n",
       " ((0.0, 0.0), (1.0, 1.0)),\n",
       " ((0.0, 0.0), (1.0, 1.0)),\n",
       " ((0.0, 0.0), (1.0, 1.0)),\n",
       " ((0.0, 0.0), (1.0, 1.0)),\n",
       " ((0.0, 0.0), (1.0, 1.0))]"
      ]
     },
     "execution_count": 23,
     "metadata": {},
     "output_type": "execute_result"
    }
   ],
   "source": [
    "# let's see how our rects look like\n",
    "rects[:10]"
   ]
  },
  {
   "cell_type": "code",
   "execution_count": 24,
   "metadata": {},
   "outputs": [],
   "source": [
    "# we plot the rects\n",
    "def plot_rects(df, ax, rects, column_x, column_y, edgecolor='black', facecolor='none'):\n",
    "    for (xl, yl),(xr, yr) in rects:\n",
    "        ax.add_patch(patches.Rectangle((xl,yl),xr-xl,yr-yl,linewidth=1,edgecolor=edgecolor,facecolor=facecolor, alpha=0.5))\n",
    "    ax.set_xlim(*get_bounds(df, column_x, indexes))\n",
    "    ax.set_ylim(*get_bounds(df, column_y, indexes))\n",
    "    ax.set_xlabel(column_x)\n",
    "    ax.set_ylabel(column_y)"
   ]
  },
  {
   "cell_type": "code",
   "execution_count": 25,
   "metadata": {},
   "outputs": [],
   "source": [
    "def agg_categorical_column(series):\n",
    "    return [','.join(set(series))]\n",
    "\n",
    "def agg_numerical_column(series):\n",
    "    return [series.mean()]"
   ]
  },
  {
   "cell_type": "code",
   "execution_count": 26,
   "metadata": {},
   "outputs": [],
   "source": [
    "def build_anonymized_dataset(df, partitions, feature_columns, sensitive_column, max_partitions=None):\n",
    "    aggregations = {}\n",
    "    for column in feature_columns:\n",
    "        if column in categorical:\n",
    "            aggregations[column] = agg_categorical_column\n",
    "        else:\n",
    "            aggregations[column] = agg_numerical_column\n",
    "    rows = []\n",
    "    for i, partition in enumerate(partitions):\n",
    "        if i % 100 == 1:\n",
    "            print(\"Finished {} partitions...\".format(i))\n",
    "        if max_partitions is not None and i > max_partitions:\n",
    "            break\n",
    "        grouped_columns = df.loc[partition].agg(aggregations, squeeze=False)\n",
    "        sensitive_counts = df.loc[partition].groupby(sensitive_column).agg({sensitive_column : 'count'})\n",
    "        values = grouped_columns.iloc[0].to_dict()\n",
    "        for sensitive_value, count in sensitive_counts[sensitive_column].items():\n",
    "            if count == 0:\n",
    "                continue\n",
    "            values.update({\n",
    "                sensitive_column : sensitive_value,\n",
    "                'count' : count,\n",
    "\n",
    "            })\n",
    "            rows.append(values.copy())\n",
    "    return pd.DataFrame(rows)"
   ]
  },
  {
   "cell_type": "code",
   "execution_count": 27,
   "metadata": {},
   "outputs": [
    {
     "name": "stdout",
     "output_type": "stream",
     "text": [
      "Finished 1 partitions...\n",
      "Finished 101 partitions...\n",
      "Finished 201 partitions...\n",
      "Finished 301 partitions...\n",
      "Finished 401 partitions...\n",
      "Finished 501 partitions...\n",
      "Finished 601 partitions...\n",
      "Finished 701 partitions...\n",
      "Finished 801 partitions...\n",
      "Finished 901 partitions...\n",
      "Finished 1001 partitions...\n"
     ]
    }
   ],
   "source": [
    "dfn = build_anonymized_dataset(df, finished_partitions, feature_columns, sensitive_column)"
   ]
  },
  {
   "cell_type": "code",
   "execution_count": 28,
   "metadata": {
    "scrolled": true
   },
   "outputs": [
    {
     "data": {
      "text/html": [
       "<div>\n",
       "<style scoped>\n",
       "    .dataframe tbody tr th:only-of-type {\n",
       "        vertical-align: middle;\n",
       "    }\n",
       "\n",
       "    .dataframe tbody tr th {\n",
       "        vertical-align: top;\n",
       "    }\n",
       "\n",
       "    .dataframe thead th {\n",
       "        text-align: right;\n",
       "    }\n",
       "</style>\n",
       "<table border=\"1\" class=\"dataframe\">\n",
       "  <thead>\n",
       "    <tr style=\"text-align: right;\">\n",
       "      <th></th>\n",
       "      <th>A2</th>\n",
       "      <th>A3</th>\n",
       "      <th>A4</th>\n",
       "      <th>A5</th>\n",
       "      <th>A6</th>\n",
       "      <th>A7</th>\n",
       "      <th>A8</th>\n",
       "      <th>A9</th>\n",
       "      <th>A10</th>\n",
       "      <th>A11</th>\n",
       "      <th>...</th>\n",
       "      <th>A57</th>\n",
       "      <th>A58</th>\n",
       "      <th>A59</th>\n",
       "      <th>A60</th>\n",
       "      <th>A61</th>\n",
       "      <th>A62</th>\n",
       "      <th>A63</th>\n",
       "      <th>A64</th>\n",
       "      <th>class</th>\n",
       "      <th>count</th>\n",
       "    </tr>\n",
       "  </thead>\n",
       "  <tbody>\n",
       "    <tr>\n",
       "      <td>263</td>\n",
       "      <td>0.000000</td>\n",
       "      <td>0.000000</td>\n",
       "      <td>0.000000</td>\n",
       "      <td>2.666667</td>\n",
       "      <td>13.666667</td>\n",
       "      <td>3.333333</td>\n",
       "      <td>0.0</td>\n",
       "      <td>0.0</td>\n",
       "      <td>0.000000</td>\n",
       "      <td>0.000000</td>\n",
       "      <td>...</td>\n",
       "      <td>0.0</td>\n",
       "      <td>0.000000</td>\n",
       "      <td>0.000000</td>\n",
       "      <td>0.000000</td>\n",
       "      <td>3.000000</td>\n",
       "      <td>14.333333</td>\n",
       "      <td>3.666667</td>\n",
       "      <td>0.000000</td>\n",
       "      <td>1</td>\n",
       "      <td>3</td>\n",
       "    </tr>\n",
       "    <tr>\n",
       "      <td>264</td>\n",
       "      <td>0.000000</td>\n",
       "      <td>0.000000</td>\n",
       "      <td>0.000000</td>\n",
       "      <td>4.000000</td>\n",
       "      <td>14.000000</td>\n",
       "      <td>3.000000</td>\n",
       "      <td>0.0</td>\n",
       "      <td>0.0</td>\n",
       "      <td>0.000000</td>\n",
       "      <td>0.000000</td>\n",
       "      <td>...</td>\n",
       "      <td>0.0</td>\n",
       "      <td>0.666667</td>\n",
       "      <td>1.333333</td>\n",
       "      <td>0.000000</td>\n",
       "      <td>4.666667</td>\n",
       "      <td>15.666667</td>\n",
       "      <td>2.000000</td>\n",
       "      <td>0.000000</td>\n",
       "      <td>1</td>\n",
       "      <td>3</td>\n",
       "    </tr>\n",
       "    <tr>\n",
       "      <td>1539</td>\n",
       "      <td>0.000000</td>\n",
       "      <td>0.000000</td>\n",
       "      <td>0.000000</td>\n",
       "      <td>4.666667</td>\n",
       "      <td>15.333333</td>\n",
       "      <td>3.666667</td>\n",
       "      <td>0.0</td>\n",
       "      <td>0.0</td>\n",
       "      <td>0.000000</td>\n",
       "      <td>0.000000</td>\n",
       "      <td>...</td>\n",
       "      <td>0.0</td>\n",
       "      <td>0.000000</td>\n",
       "      <td>0.000000</td>\n",
       "      <td>0.000000</td>\n",
       "      <td>6.666667</td>\n",
       "      <td>14.333333</td>\n",
       "      <td>0.000000</td>\n",
       "      <td>0.000000</td>\n",
       "      <td>1</td>\n",
       "      <td>3</td>\n",
       "    </tr>\n",
       "    <tr>\n",
       "      <td>266</td>\n",
       "      <td>0.000000</td>\n",
       "      <td>0.000000</td>\n",
       "      <td>0.000000</td>\n",
       "      <td>7.000000</td>\n",
       "      <td>15.000000</td>\n",
       "      <td>4.666667</td>\n",
       "      <td>0.0</td>\n",
       "      <td>0.0</td>\n",
       "      <td>0.000000</td>\n",
       "      <td>0.000000</td>\n",
       "      <td>...</td>\n",
       "      <td>0.0</td>\n",
       "      <td>0.000000</td>\n",
       "      <td>0.000000</td>\n",
       "      <td>0.000000</td>\n",
       "      <td>8.000000</td>\n",
       "      <td>15.666667</td>\n",
       "      <td>3.333333</td>\n",
       "      <td>0.000000</td>\n",
       "      <td>1</td>\n",
       "      <td>3</td>\n",
       "    </tr>\n",
       "    <tr>\n",
       "      <td>39</td>\n",
       "      <td>0.000000</td>\n",
       "      <td>0.000000</td>\n",
       "      <td>0.000000</td>\n",
       "      <td>7.600000</td>\n",
       "      <td>11.000000</td>\n",
       "      <td>0.200000</td>\n",
       "      <td>0.0</td>\n",
       "      <td>0.0</td>\n",
       "      <td>0.000000</td>\n",
       "      <td>0.000000</td>\n",
       "      <td>...</td>\n",
       "      <td>0.0</td>\n",
       "      <td>0.000000</td>\n",
       "      <td>0.000000</td>\n",
       "      <td>0.000000</td>\n",
       "      <td>7.400000</td>\n",
       "      <td>10.800000</td>\n",
       "      <td>0.400000</td>\n",
       "      <td>0.000000</td>\n",
       "      <td>1</td>\n",
       "      <td>2</td>\n",
       "    </tr>\n",
       "    <tr>\n",
       "      <td>...</td>\n",
       "      <td>...</td>\n",
       "      <td>...</td>\n",
       "      <td>...</td>\n",
       "      <td>...</td>\n",
       "      <td>...</td>\n",
       "      <td>...</td>\n",
       "      <td>...</td>\n",
       "      <td>...</td>\n",
       "      <td>...</td>\n",
       "      <td>...</td>\n",
       "      <td>...</td>\n",
       "      <td>...</td>\n",
       "      <td>...</td>\n",
       "      <td>...</td>\n",
       "      <td>...</td>\n",
       "      <td>...</td>\n",
       "      <td>...</td>\n",
       "      <td>...</td>\n",
       "      <td>...</td>\n",
       "      <td>...</td>\n",
       "      <td>...</td>\n",
       "    </tr>\n",
       "    <tr>\n",
       "      <td>1297</td>\n",
       "      <td>3.666667</td>\n",
       "      <td>14.000000</td>\n",
       "      <td>16.000000</td>\n",
       "      <td>12.000000</td>\n",
       "      <td>0.666667</td>\n",
       "      <td>0.000000</td>\n",
       "      <td>0.0</td>\n",
       "      <td>0.0</td>\n",
       "      <td>8.666667</td>\n",
       "      <td>13.666667</td>\n",
       "      <td>...</td>\n",
       "      <td>0.0</td>\n",
       "      <td>3.000000</td>\n",
       "      <td>14.000000</td>\n",
       "      <td>14.666667</td>\n",
       "      <td>14.666667</td>\n",
       "      <td>14.666667</td>\n",
       "      <td>13.000000</td>\n",
       "      <td>0.333333</td>\n",
       "      <td>2</td>\n",
       "      <td>3</td>\n",
       "    </tr>\n",
       "    <tr>\n",
       "      <td>1500</td>\n",
       "      <td>4.000000</td>\n",
       "      <td>12.666667</td>\n",
       "      <td>15.666667</td>\n",
       "      <td>16.000000</td>\n",
       "      <td>10.333333</td>\n",
       "      <td>0.000000</td>\n",
       "      <td>0.0</td>\n",
       "      <td>0.0</td>\n",
       "      <td>4.333333</td>\n",
       "      <td>9.666667</td>\n",
       "      <td>...</td>\n",
       "      <td>0.0</td>\n",
       "      <td>1.666667</td>\n",
       "      <td>14.666667</td>\n",
       "      <td>13.333333</td>\n",
       "      <td>8.333333</td>\n",
       "      <td>2.000000</td>\n",
       "      <td>0.000000</td>\n",
       "      <td>0.000000</td>\n",
       "      <td>3</td>\n",
       "      <td>3</td>\n",
       "    </tr>\n",
       "    <tr>\n",
       "      <td>1854</td>\n",
       "      <td>4.000000</td>\n",
       "      <td>14.000000</td>\n",
       "      <td>16.000000</td>\n",
       "      <td>16.000000</td>\n",
       "      <td>14.333333</td>\n",
       "      <td>2.333333</td>\n",
       "      <td>0.0</td>\n",
       "      <td>0.0</td>\n",
       "      <td>4.666667</td>\n",
       "      <td>11.333333</td>\n",
       "      <td>...</td>\n",
       "      <td>0.0</td>\n",
       "      <td>3.666667</td>\n",
       "      <td>13.666667</td>\n",
       "      <td>10.666667</td>\n",
       "      <td>9.333333</td>\n",
       "      <td>4.333333</td>\n",
       "      <td>0.000000</td>\n",
       "      <td>0.000000</td>\n",
       "      <td>3</td>\n",
       "      <td>2</td>\n",
       "    </tr>\n",
       "    <tr>\n",
       "      <td>1855</td>\n",
       "      <td>4.000000</td>\n",
       "      <td>14.000000</td>\n",
       "      <td>16.000000</td>\n",
       "      <td>16.000000</td>\n",
       "      <td>14.333333</td>\n",
       "      <td>2.333333</td>\n",
       "      <td>0.0</td>\n",
       "      <td>0.0</td>\n",
       "      <td>4.666667</td>\n",
       "      <td>11.333333</td>\n",
       "      <td>...</td>\n",
       "      <td>0.0</td>\n",
       "      <td>3.666667</td>\n",
       "      <td>13.666667</td>\n",
       "      <td>10.666667</td>\n",
       "      <td>9.333333</td>\n",
       "      <td>4.333333</td>\n",
       "      <td>0.000000</td>\n",
       "      <td>0.000000</td>\n",
       "      <td>7</td>\n",
       "      <td>1</td>\n",
       "    </tr>\n",
       "    <tr>\n",
       "      <td>1757</td>\n",
       "      <td>4.000000</td>\n",
       "      <td>15.250000</td>\n",
       "      <td>15.750000</td>\n",
       "      <td>7.250000</td>\n",
       "      <td>0.000000</td>\n",
       "      <td>0.000000</td>\n",
       "      <td>0.0</td>\n",
       "      <td>0.0</td>\n",
       "      <td>7.500000</td>\n",
       "      <td>15.250000</td>\n",
       "      <td>...</td>\n",
       "      <td>0.0</td>\n",
       "      <td>6.250000</td>\n",
       "      <td>16.000000</td>\n",
       "      <td>16.000000</td>\n",
       "      <td>15.000000</td>\n",
       "      <td>11.750000</td>\n",
       "      <td>7.750000</td>\n",
       "      <td>0.000000</td>\n",
       "      <td>2</td>\n",
       "      <td>4</td>\n",
       "    </tr>\n",
       "  </tbody>\n",
       "</table>\n",
       "<p>1869 rows × 64 columns</p>\n",
       "</div>"
      ],
      "text/plain": [
       "            A2         A3         A4         A5         A6        A7   A8  \\\n",
       "263   0.000000   0.000000   0.000000   2.666667  13.666667  3.333333  0.0   \n",
       "264   0.000000   0.000000   0.000000   4.000000  14.000000  3.000000  0.0   \n",
       "1539  0.000000   0.000000   0.000000   4.666667  15.333333  3.666667  0.0   \n",
       "266   0.000000   0.000000   0.000000   7.000000  15.000000  4.666667  0.0   \n",
       "39    0.000000   0.000000   0.000000   7.600000  11.000000  0.200000  0.0   \n",
       "...        ...        ...        ...        ...        ...       ...  ...   \n",
       "1297  3.666667  14.000000  16.000000  12.000000   0.666667  0.000000  0.0   \n",
       "1500  4.000000  12.666667  15.666667  16.000000  10.333333  0.000000  0.0   \n",
       "1854  4.000000  14.000000  16.000000  16.000000  14.333333  2.333333  0.0   \n",
       "1855  4.000000  14.000000  16.000000  16.000000  14.333333  2.333333  0.0   \n",
       "1757  4.000000  15.250000  15.750000   7.250000   0.000000  0.000000  0.0   \n",
       "\n",
       "       A9       A10        A11  ...  A57       A58        A59        A60  \\\n",
       "263   0.0  0.000000   0.000000  ...  0.0  0.000000   0.000000   0.000000   \n",
       "264   0.0  0.000000   0.000000  ...  0.0  0.666667   1.333333   0.000000   \n",
       "1539  0.0  0.000000   0.000000  ...  0.0  0.000000   0.000000   0.000000   \n",
       "266   0.0  0.000000   0.000000  ...  0.0  0.000000   0.000000   0.000000   \n",
       "39    0.0  0.000000   0.000000  ...  0.0  0.000000   0.000000   0.000000   \n",
       "...   ...       ...        ...  ...  ...       ...        ...        ...   \n",
       "1297  0.0  8.666667  13.666667  ...  0.0  3.000000  14.000000  14.666667   \n",
       "1500  0.0  4.333333   9.666667  ...  0.0  1.666667  14.666667  13.333333   \n",
       "1854  0.0  4.666667  11.333333  ...  0.0  3.666667  13.666667  10.666667   \n",
       "1855  0.0  4.666667  11.333333  ...  0.0  3.666667  13.666667  10.666667   \n",
       "1757  0.0  7.500000  15.250000  ...  0.0  6.250000  16.000000  16.000000   \n",
       "\n",
       "            A61        A62        A63       A64  class  count  \n",
       "263    3.000000  14.333333   3.666667  0.000000      1      3  \n",
       "264    4.666667  15.666667   2.000000  0.000000      1      3  \n",
       "1539   6.666667  14.333333   0.000000  0.000000      1      3  \n",
       "266    8.000000  15.666667   3.333333  0.000000      1      3  \n",
       "39     7.400000  10.800000   0.400000  0.000000      1      2  \n",
       "...         ...        ...        ...       ...    ...    ...  \n",
       "1297  14.666667  14.666667  13.000000  0.333333      2      3  \n",
       "1500   8.333333   2.000000   0.000000  0.000000      3      3  \n",
       "1854   9.333333   4.333333   0.000000  0.000000      3      2  \n",
       "1855   9.333333   4.333333   0.000000  0.000000      7      1  \n",
       "1757  15.000000  11.750000   7.750000  0.000000      2      4  \n",
       "\n",
       "[1869 rows x 64 columns]"
      ]
     },
     "execution_count": 28,
     "metadata": {},
     "output_type": "execute_result"
    }
   ],
   "source": [
    "# we sort the resulting dataframe using the feature columns and the sensitive attribute\n",
    "dfn.sort_values(feature_columns+[sensitive_column])"
   ]
  },
  {
   "cell_type": "code",
   "execution_count": 29,
   "metadata": {},
   "outputs": [],
   "source": [
    "dfnc = dfn\n",
    "dfnc['class'] =dfnc['class'].astype(str).astype(int)"
   ]
  },
  {
   "cell_type": "code",
   "execution_count": 30,
   "metadata": {},
   "outputs": [],
   "source": [
    "import numpy as np\n",
    "dfn3= np.repeat(dfnc.values, dfnc['count'].values, axis=0)"
   ]
  },
  {
   "cell_type": "code",
   "execution_count": 31,
   "metadata": {},
   "outputs": [],
   "source": [
    "dfn2 = pd.DataFrame(np.repeat(dfnc.values, dfnc['count'].values, axis=0), columns=[\n",
    "    'A2',    'A3',  'A4',   'A5',  'A6',  'A7',  'A8', 'A9', 'A10', 'A11',\n",
    "    'A12', 'A13',  'A14', 'A15', 'A16', 'A17',  'A18', 'A19',  'A20', 'A21', 'A22', 'A23', 'A24', 'A25', 'A26', 'A27',\n",
    "    'A28', 'A29', 'A30', 'A31', 'A32', 'A33', 'A34', 'A35', 'A36', 'A37', 'A38', 'A39', 'A41', 'A42', 'A43', 'A44', 'A45', 'A46', 'A47', 'A48', 'A49', 'A50', 'A51',  'A52', 'A53', 'A54', 'A55', 'A56', 'A57',\n",
    "    'A58', 'A59', 'A60', 'A61', 'A62', 'A63', 'A64', 'class', 'count'])"
   ]
  },
  {
   "cell_type": "code",
   "execution_count": 32,
   "metadata": {},
   "outputs": [],
   "source": [
    "dfn1=dfn2.drop(columns=['count'])"
   ]
  },
  {
   "cell_type": "markdown",
   "metadata": {},
   "source": [
    "# L-diversity"
   ]
  },
  {
   "cell_type": "code",
   "execution_count": 33,
   "metadata": {},
   "outputs": [],
   "source": [
    "def diversity(df, partition, column):\n",
    "    return len(df[column][partition].unique())\n",
    "\n",
    "def is_l_diverse(df, partition, sensitive_column, l=2):\n",
    "    \"\"\"\n",
    "    :param               df: The dataframe for which to check l-diversity\n",
    "    :param        partition: The partition of the dataframe on which to check l-diversity\n",
    "    :param sensitive_column: The name of the sensitive column\n",
    "    :param                l: The minimum required diversity of sensitive attribute values in the partition\n",
    "    \"\"\"\n",
    "    return diversity(df, partition, sensitive_column) >= l"
   ]
  },
  {
   "cell_type": "code",
   "execution_count": 34,
   "metadata": {},
   "outputs": [],
   "source": [
    "# now let's apply this method to our data and see how the result changes\n",
    "finished_l_diverse_partitions = partition_dataset(df, feature_columns, sensitive_column, full_spans, lambda *args: is_k_anonymous(*args) and is_l_diverse(*args))"
   ]
  },
  {
   "cell_type": "code",
   "execution_count": 35,
   "metadata": {},
   "outputs": [
    {
     "data": {
      "text/plain": [
       "826"
      ]
     },
     "execution_count": 35,
     "metadata": {},
     "output_type": "execute_result"
    }
   ],
   "source": [
    "\n",
    "len(finished_l_diverse_partitions)"
   ]
  },
  {
   "cell_type": "code",
   "execution_count": 36,
   "metadata": {},
   "outputs": [],
   "source": [
    "column_x, column_y = feature_columns[:2]\n",
    "l_diverse_rects = get_partition_rects(df, finished_l_diverse_partitions, column_x, column_y, indexes, offsets=[0.0, 0.0])"
   ]
  },
  {
   "cell_type": "code",
   "execution_count": 37,
   "metadata": {},
   "outputs": [
    {
     "name": "stdout",
     "output_type": "stream",
     "text": [
      "Finished 1 partitions...\n",
      "Finished 101 partitions...\n",
      "Finished 201 partitions...\n",
      "Finished 301 partitions...\n",
      "Finished 401 partitions...\n",
      "Finished 501 partitions...\n",
      "Finished 601 partitions...\n",
      "Finished 701 partitions...\n",
      "Finished 801 partitions...\n"
     ]
    }
   ],
   "source": [
    "# again we build an anonymized dataset from the l-diverse partitions\n",
    "dfl = build_anonymized_dataset(df, finished_l_diverse_partitions, feature_columns, sensitive_column)"
   ]
  },
  {
   "cell_type": "code",
   "execution_count": 38,
   "metadata": {},
   "outputs": [
    {
     "data": {
      "text/html": [
       "<div>\n",
       "<style scoped>\n",
       "    .dataframe tbody tr th:only-of-type {\n",
       "        vertical-align: middle;\n",
       "    }\n",
       "\n",
       "    .dataframe tbody tr th {\n",
       "        vertical-align: top;\n",
       "    }\n",
       "\n",
       "    .dataframe thead th {\n",
       "        text-align: right;\n",
       "    }\n",
       "</style>\n",
       "<table border=\"1\" class=\"dataframe\">\n",
       "  <thead>\n",
       "    <tr style=\"text-align: right;\">\n",
       "      <th></th>\n",
       "      <th>A2</th>\n",
       "      <th>A3</th>\n",
       "      <th>A4</th>\n",
       "      <th>A5</th>\n",
       "      <th>A6</th>\n",
       "      <th>A7</th>\n",
       "      <th>A8</th>\n",
       "      <th>A9</th>\n",
       "      <th>A10</th>\n",
       "      <th>A11</th>\n",
       "      <th>...</th>\n",
       "      <th>A57</th>\n",
       "      <th>A58</th>\n",
       "      <th>A59</th>\n",
       "      <th>A60</th>\n",
       "      <th>A61</th>\n",
       "      <th>A62</th>\n",
       "      <th>A63</th>\n",
       "      <th>A64</th>\n",
       "      <th>class</th>\n",
       "      <th>count</th>\n",
       "    </tr>\n",
       "  </thead>\n",
       "  <tbody>\n",
       "    <tr>\n",
       "      <td>22</td>\n",
       "      <td>0.000000</td>\n",
       "      <td>0.00</td>\n",
       "      <td>3.000000</td>\n",
       "      <td>14.800000</td>\n",
       "      <td>4.600000</td>\n",
       "      <td>0.000000</td>\n",
       "      <td>0.0</td>\n",
       "      <td>0.0</td>\n",
       "      <td>0.000000</td>\n",
       "      <td>0.000000</td>\n",
       "      <td>...</td>\n",
       "      <td>0.0</td>\n",
       "      <td>0.0</td>\n",
       "      <td>0.000000</td>\n",
       "      <td>3.000000</td>\n",
       "      <td>15.000000</td>\n",
       "      <td>9.600000</td>\n",
       "      <td>1.800000</td>\n",
       "      <td>0.0</td>\n",
       "      <td>0</td>\n",
       "      <td>1</td>\n",
       "    </tr>\n",
       "    <tr>\n",
       "      <td>65</td>\n",
       "      <td>0.000000</td>\n",
       "      <td>0.00</td>\n",
       "      <td>9.166667</td>\n",
       "      <td>10.833333</td>\n",
       "      <td>0.500000</td>\n",
       "      <td>0.000000</td>\n",
       "      <td>0.0</td>\n",
       "      <td>0.0</td>\n",
       "      <td>0.000000</td>\n",
       "      <td>4.666667</td>\n",
       "      <td>...</td>\n",
       "      <td>0.0</td>\n",
       "      <td>0.0</td>\n",
       "      <td>0.000000</td>\n",
       "      <td>11.333333</td>\n",
       "      <td>9.333333</td>\n",
       "      <td>1.500000</td>\n",
       "      <td>0.166667</td>\n",
       "      <td>0.0</td>\n",
       "      <td>0</td>\n",
       "      <td>1</td>\n",
       "    </tr>\n",
       "    <tr>\n",
       "      <td>411</td>\n",
       "      <td>0.000000</td>\n",
       "      <td>0.00</td>\n",
       "      <td>7.000000</td>\n",
       "      <td>9.000000</td>\n",
       "      <td>1.000000</td>\n",
       "      <td>0.000000</td>\n",
       "      <td>0.0</td>\n",
       "      <td>0.0</td>\n",
       "      <td>0.000000</td>\n",
       "      <td>0.750000</td>\n",
       "      <td>...</td>\n",
       "      <td>0.0</td>\n",
       "      <td>0.0</td>\n",
       "      <td>0.000000</td>\n",
       "      <td>9.000000</td>\n",
       "      <td>9.250000</td>\n",
       "      <td>1.250000</td>\n",
       "      <td>0.000000</td>\n",
       "      <td>0.0</td>\n",
       "      <td>0</td>\n",
       "      <td>1</td>\n",
       "    </tr>\n",
       "    <tr>\n",
       "      <td>423</td>\n",
       "      <td>0.000000</td>\n",
       "      <td>0.00</td>\n",
       "      <td>8.250000</td>\n",
       "      <td>10.750000</td>\n",
       "      <td>0.500000</td>\n",
       "      <td>0.000000</td>\n",
       "      <td>0.0</td>\n",
       "      <td>0.0</td>\n",
       "      <td>0.250000</td>\n",
       "      <td>6.000000</td>\n",
       "      <td>...</td>\n",
       "      <td>0.0</td>\n",
       "      <td>0.0</td>\n",
       "      <td>0.000000</td>\n",
       "      <td>8.500000</td>\n",
       "      <td>13.000000</td>\n",
       "      <td>4.000000</td>\n",
       "      <td>0.000000</td>\n",
       "      <td>0.0</td>\n",
       "      <td>0</td>\n",
       "      <td>1</td>\n",
       "    </tr>\n",
       "    <tr>\n",
       "      <td>501</td>\n",
       "      <td>0.000000</td>\n",
       "      <td>0.00</td>\n",
       "      <td>7.833333</td>\n",
       "      <td>14.333333</td>\n",
       "      <td>1.000000</td>\n",
       "      <td>0.666667</td>\n",
       "      <td>0.0</td>\n",
       "      <td>0.0</td>\n",
       "      <td>0.000000</td>\n",
       "      <td>3.166667</td>\n",
       "      <td>...</td>\n",
       "      <td>0.0</td>\n",
       "      <td>0.0</td>\n",
       "      <td>0.000000</td>\n",
       "      <td>9.833333</td>\n",
       "      <td>11.500000</td>\n",
       "      <td>1.666667</td>\n",
       "      <td>0.000000</td>\n",
       "      <td>0.0</td>\n",
       "      <td>0</td>\n",
       "      <td>1</td>\n",
       "    </tr>\n",
       "    <tr>\n",
       "      <td>...</td>\n",
       "      <td>...</td>\n",
       "      <td>...</td>\n",
       "      <td>...</td>\n",
       "      <td>...</td>\n",
       "      <td>...</td>\n",
       "      <td>...</td>\n",
       "      <td>...</td>\n",
       "      <td>...</td>\n",
       "      <td>...</td>\n",
       "      <td>...</td>\n",
       "      <td>...</td>\n",
       "      <td>...</td>\n",
       "      <td>...</td>\n",
       "      <td>...</td>\n",
       "      <td>...</td>\n",
       "      <td>...</td>\n",
       "      <td>...</td>\n",
       "      <td>...</td>\n",
       "      <td>...</td>\n",
       "      <td>...</td>\n",
       "      <td>...</td>\n",
       "    </tr>\n",
       "    <tr>\n",
       "      <td>1414</td>\n",
       "      <td>3.000000</td>\n",
       "      <td>13.25</td>\n",
       "      <td>15.500000</td>\n",
       "      <td>10.250000</td>\n",
       "      <td>3.000000</td>\n",
       "      <td>0.000000</td>\n",
       "      <td>0.0</td>\n",
       "      <td>0.0</td>\n",
       "      <td>5.750000</td>\n",
       "      <td>15.500000</td>\n",
       "      <td>...</td>\n",
       "      <td>0.0</td>\n",
       "      <td>2.5</td>\n",
       "      <td>12.500000</td>\n",
       "      <td>16.000000</td>\n",
       "      <td>14.250000</td>\n",
       "      <td>7.250000</td>\n",
       "      <td>1.000000</td>\n",
       "      <td>0.0</td>\n",
       "      <td>2</td>\n",
       "      <td>1</td>\n",
       "    </tr>\n",
       "    <tr>\n",
       "      <td>1415</td>\n",
       "      <td>3.000000</td>\n",
       "      <td>13.25</td>\n",
       "      <td>15.500000</td>\n",
       "      <td>10.250000</td>\n",
       "      <td>3.000000</td>\n",
       "      <td>0.000000</td>\n",
       "      <td>0.0</td>\n",
       "      <td>0.0</td>\n",
       "      <td>5.750000</td>\n",
       "      <td>15.500000</td>\n",
       "      <td>...</td>\n",
       "      <td>0.0</td>\n",
       "      <td>2.5</td>\n",
       "      <td>12.500000</td>\n",
       "      <td>16.000000</td>\n",
       "      <td>14.250000</td>\n",
       "      <td>7.250000</td>\n",
       "      <td>1.000000</td>\n",
       "      <td>0.0</td>\n",
       "      <td>3</td>\n",
       "      <td>2</td>\n",
       "    </tr>\n",
       "    <tr>\n",
       "      <td>1416</td>\n",
       "      <td>3.000000</td>\n",
       "      <td>13.25</td>\n",
       "      <td>15.500000</td>\n",
       "      <td>10.250000</td>\n",
       "      <td>3.000000</td>\n",
       "      <td>0.000000</td>\n",
       "      <td>0.0</td>\n",
       "      <td>0.0</td>\n",
       "      <td>5.750000</td>\n",
       "      <td>15.500000</td>\n",
       "      <td>...</td>\n",
       "      <td>0.0</td>\n",
       "      <td>2.5</td>\n",
       "      <td>12.500000</td>\n",
       "      <td>16.000000</td>\n",
       "      <td>14.250000</td>\n",
       "      <td>7.250000</td>\n",
       "      <td>1.000000</td>\n",
       "      <td>0.0</td>\n",
       "      <td>8</td>\n",
       "      <td>1</td>\n",
       "    </tr>\n",
       "    <tr>\n",
       "      <td>1841</td>\n",
       "      <td>6.333333</td>\n",
       "      <td>16.00</td>\n",
       "      <td>16.000000</td>\n",
       "      <td>16.000000</td>\n",
       "      <td>15.666667</td>\n",
       "      <td>4.666667</td>\n",
       "      <td>0.0</td>\n",
       "      <td>0.0</td>\n",
       "      <td>3.666667</td>\n",
       "      <td>11.666667</td>\n",
       "      <td>...</td>\n",
       "      <td>0.0</td>\n",
       "      <td>5.0</td>\n",
       "      <td>14.333333</td>\n",
       "      <td>9.000000</td>\n",
       "      <td>5.333333</td>\n",
       "      <td>2.666667</td>\n",
       "      <td>0.000000</td>\n",
       "      <td>0.0</td>\n",
       "      <td>3</td>\n",
       "      <td>1</td>\n",
       "    </tr>\n",
       "    <tr>\n",
       "      <td>1842</td>\n",
       "      <td>6.333333</td>\n",
       "      <td>16.00</td>\n",
       "      <td>16.000000</td>\n",
       "      <td>16.000000</td>\n",
       "      <td>15.666667</td>\n",
       "      <td>4.666667</td>\n",
       "      <td>0.0</td>\n",
       "      <td>0.0</td>\n",
       "      <td>3.666667</td>\n",
       "      <td>11.666667</td>\n",
       "      <td>...</td>\n",
       "      <td>0.0</td>\n",
       "      <td>5.0</td>\n",
       "      <td>14.333333</td>\n",
       "      <td>9.000000</td>\n",
       "      <td>5.333333</td>\n",
       "      <td>2.666667</td>\n",
       "      <td>0.000000</td>\n",
       "      <td>0.0</td>\n",
       "      <td>7</td>\n",
       "      <td>2</td>\n",
       "    </tr>\n",
       "  </tbody>\n",
       "</table>\n",
       "<p>1851 rows × 64 columns</p>\n",
       "</div>"
      ],
      "text/plain": [
       "            A2     A3         A4         A5         A6        A7   A8   A9  \\\n",
       "22    0.000000   0.00   3.000000  14.800000   4.600000  0.000000  0.0  0.0   \n",
       "65    0.000000   0.00   9.166667  10.833333   0.500000  0.000000  0.0  0.0   \n",
       "411   0.000000   0.00   7.000000   9.000000   1.000000  0.000000  0.0  0.0   \n",
       "423   0.000000   0.00   8.250000  10.750000   0.500000  0.000000  0.0  0.0   \n",
       "501   0.000000   0.00   7.833333  14.333333   1.000000  0.666667  0.0  0.0   \n",
       "...        ...    ...        ...        ...        ...       ...  ...  ...   \n",
       "1414  3.000000  13.25  15.500000  10.250000   3.000000  0.000000  0.0  0.0   \n",
       "1415  3.000000  13.25  15.500000  10.250000   3.000000  0.000000  0.0  0.0   \n",
       "1416  3.000000  13.25  15.500000  10.250000   3.000000  0.000000  0.0  0.0   \n",
       "1841  6.333333  16.00  16.000000  16.000000  15.666667  4.666667  0.0  0.0   \n",
       "1842  6.333333  16.00  16.000000  16.000000  15.666667  4.666667  0.0  0.0   \n",
       "\n",
       "           A10        A11  ...  A57  A58        A59        A60        A61  \\\n",
       "22    0.000000   0.000000  ...  0.0  0.0   0.000000   3.000000  15.000000   \n",
       "65    0.000000   4.666667  ...  0.0  0.0   0.000000  11.333333   9.333333   \n",
       "411   0.000000   0.750000  ...  0.0  0.0   0.000000   9.000000   9.250000   \n",
       "423   0.250000   6.000000  ...  0.0  0.0   0.000000   8.500000  13.000000   \n",
       "501   0.000000   3.166667  ...  0.0  0.0   0.000000   9.833333  11.500000   \n",
       "...        ...        ...  ...  ...  ...        ...        ...        ...   \n",
       "1414  5.750000  15.500000  ...  0.0  2.5  12.500000  16.000000  14.250000   \n",
       "1415  5.750000  15.500000  ...  0.0  2.5  12.500000  16.000000  14.250000   \n",
       "1416  5.750000  15.500000  ...  0.0  2.5  12.500000  16.000000  14.250000   \n",
       "1841  3.666667  11.666667  ...  0.0  5.0  14.333333   9.000000   5.333333   \n",
       "1842  3.666667  11.666667  ...  0.0  5.0  14.333333   9.000000   5.333333   \n",
       "\n",
       "           A62       A63  A64  class  count  \n",
       "22    9.600000  1.800000  0.0      0      1  \n",
       "65    1.500000  0.166667  0.0      0      1  \n",
       "411   1.250000  0.000000  0.0      0      1  \n",
       "423   4.000000  0.000000  0.0      0      1  \n",
       "501   1.666667  0.000000  0.0      0      1  \n",
       "...        ...       ...  ...    ...    ...  \n",
       "1414  7.250000  1.000000  0.0      2      1  \n",
       "1415  7.250000  1.000000  0.0      3      2  \n",
       "1416  7.250000  1.000000  0.0      8      1  \n",
       "1841  2.666667  0.000000  0.0      3      1  \n",
       "1842  2.666667  0.000000  0.0      7      2  \n",
       "\n",
       "[1851 rows x 64 columns]"
      ]
     },
     "execution_count": 38,
     "metadata": {},
     "output_type": "execute_result"
    }
   ],
   "source": [
    "# Let's see how l-diversity improves the anonymity of our dataset\n",
    "dfl.sort_values([column_x, column_y, sensitive_column])"
   ]
  },
  {
   "cell_type": "code",
   "execution_count": 39,
   "metadata": {},
   "outputs": [],
   "source": [
    "dflc = dfl\n",
    "dflc['class'] =dflc['class'].astype(str).astype(int)"
   ]
  },
  {
   "cell_type": "code",
   "execution_count": 40,
   "metadata": {},
   "outputs": [],
   "source": [
    "import numpy as np\n",
    "dfl3= np.repeat(dflc.values, dflc['count'].values, axis=0)"
   ]
  },
  {
   "cell_type": "code",
   "execution_count": 41,
   "metadata": {},
   "outputs": [],
   "source": [
    "dfl2 = pd.DataFrame(np.repeat(dflc.values, dflc['count'].values, axis=0), columns=[\n",
    "     'A2',    'A3',  'A4',   'A5',  'A6',  'A7',  'A8', 'A9', 'A10', 'A11',\n",
    "    'A12', 'A13',  'A14', 'A15', 'A16', 'A17',  'A18', 'A19',  'A20', 'A21', 'A22', 'A23', 'A24', 'A25', 'A26', 'A27',\n",
    "    'A28', 'A29', 'A30', 'A31', 'A32', 'A33', 'A34', 'A35', 'A36', 'A37', 'A38', 'A39', 'A41', 'A42', 'A43', 'A44', 'A45', 'A46', 'A47', 'A48', 'A49', 'A50', 'A51',  'A52', 'A53', 'A54', 'A55', 'A56', 'A57',\n",
    "    'A58', 'A59', 'A60', 'A61', 'A62', 'A63', 'A64', 'class', 'count'])"
   ]
  },
  {
   "cell_type": "code",
   "execution_count": 42,
   "metadata": {},
   "outputs": [],
   "source": [
    "dfl1=dfl2.drop(columns=['count'])"
   ]
  },
  {
   "cell_type": "code",
   "execution_count": null,
   "metadata": {},
   "outputs": [],
   "source": []
  },
  {
   "cell_type": "markdown",
   "metadata": {},
   "source": [
    "# t-closeness"
   ]
  },
  {
   "cell_type": "code",
   "execution_count": 43,
   "metadata": {},
   "outputs": [],
   "source": [
    "# here we generate the global frequencies for the sensitive column \n",
    "global_freqs = {}\n",
    "total_count = float(len(df))\n",
    "group_counts = df.groupby(sensitive_column)[sensitive_column].agg('count')\n",
    "for value, count in group_counts.to_dict().items():\n",
    "    p = count/total_count\n",
    "    global_freqs[value] = p"
   ]
  },
  {
   "cell_type": "code",
   "execution_count": 44,
   "metadata": {},
   "outputs": [
    {
     "data": {
      "text/plain": [
       "{0: 0.09835207951870259,\n",
       " 1: 0.10175255035312582,\n",
       " 2: 0.09939837823698666,\n",
       " 3: 0.10175255035312582,\n",
       " 4: 0.10122940099398378,\n",
       " 5: 0.09835207951870259,\n",
       " 6: 0.0986136541982736,\n",
       " 7: 0.10122940099398378,\n",
       " 8: 0.09939837823698666,\n",
       " 9: 0.0999215275961287}"
      ]
     },
     "execution_count": 44,
     "metadata": {},
     "output_type": "execute_result"
    }
   ],
   "source": [
    "global_freqs"
   ]
  },
  {
   "cell_type": "code",
   "execution_count": 45,
   "metadata": {},
   "outputs": [],
   "source": [
    "def t_closeness(df, partition, column, global_freqs):\n",
    "    total_count = float(len(partition))\n",
    "    d_max = None\n",
    "    group_counts = df.loc[partition].groupby(column)[column].agg('count')\n",
    "    for value, count in group_counts.to_dict().items():\n",
    "        p = count/total_count\n",
    "        d = abs(p-global_freqs[value])\n",
    "        if d_max is None or d > d_max:\n",
    "            d_max = d\n",
    "    return d_max\n",
    "\n",
    "\n",
    "def is_t_close(df, partition, sensitive_column, global_freqs, p=0.2):\n",
    "    \"\"\"\n",
    "    :param               df: The dataframe for which to check l-diversity\n",
    "    :param        partition: The partition of the dataframe on which to check l-diversity\n",
    "    :param sensitive_column: The name of the sensitive column\n",
    "    :param     global_freqs: The global frequencies of the sensitive attribute values\n",
    "    :param                p: The maximum allowed Kolmogorov-Smirnov distance\n",
    "    \"\"\"\n",
    "    if not sensitive_column in categorical:\n",
    "        raise ValueError(\"this method only works for categorical values\")\n",
    "    return t_closeness(df, partition, sensitive_column, global_freqs) <= p"
   ]
  },
  {
   "cell_type": "code",
   "execution_count": 46,
   "metadata": {},
   "outputs": [],
   "source": [
    "#df = df.astype({\"Age\":object, \"scaling\": })"
   ]
  },
  {
   "cell_type": "code",
   "execution_count": 47,
   "metadata": {},
   "outputs": [],
   "source": [
    "# Let's apply this to our dataset\n",
    "finished_t_close_partitions = partition_dataset(df, feature_columns, sensitive_column, full_spans, lambda *args: is_k_anonymous(*args) and is_t_close(*args, global_freqs))"
   ]
  },
  {
   "cell_type": "code",
   "execution_count": 48,
   "metadata": {},
   "outputs": [
    {
     "data": {
      "text/plain": [
       "64"
      ]
     },
     "execution_count": 48,
     "metadata": {},
     "output_type": "execute_result"
    }
   ],
   "source": [
    "len(finished_t_close_partitions)"
   ]
  },
  {
   "cell_type": "code",
   "execution_count": 49,
   "metadata": {},
   "outputs": [
    {
     "name": "stdout",
     "output_type": "stream",
     "text": [
      "Finished 1 partitions...\n"
     ]
    }
   ],
   "source": [
    "dft = build_anonymized_dataset(df, finished_t_close_partitions, feature_columns, sensitive_column)"
   ]
  },
  {
   "cell_type": "code",
   "execution_count": 50,
   "metadata": {},
   "outputs": [
    {
     "data": {
      "text/html": [
       "<div>\n",
       "<style scoped>\n",
       "    .dataframe tbody tr th:only-of-type {\n",
       "        vertical-align: middle;\n",
       "    }\n",
       "\n",
       "    .dataframe tbody tr th {\n",
       "        vertical-align: top;\n",
       "    }\n",
       "\n",
       "    .dataframe thead th {\n",
       "        text-align: right;\n",
       "    }\n",
       "</style>\n",
       "<table border=\"1\" class=\"dataframe\">\n",
       "  <thead>\n",
       "    <tr style=\"text-align: right;\">\n",
       "      <th></th>\n",
       "      <th>A2</th>\n",
       "      <th>A3</th>\n",
       "      <th>A4</th>\n",
       "      <th>A5</th>\n",
       "      <th>A6</th>\n",
       "      <th>A7</th>\n",
       "      <th>A8</th>\n",
       "      <th>A9</th>\n",
       "      <th>A10</th>\n",
       "      <th>A11</th>\n",
       "      <th>...</th>\n",
       "      <th>A57</th>\n",
       "      <th>A58</th>\n",
       "      <th>A59</th>\n",
       "      <th>A60</th>\n",
       "      <th>A61</th>\n",
       "      <th>A62</th>\n",
       "      <th>A63</th>\n",
       "      <th>A64</th>\n",
       "      <th>class</th>\n",
       "      <th>count</th>\n",
       "    </tr>\n",
       "  </thead>\n",
       "  <tbody>\n",
       "    <tr>\n",
       "      <td>395</td>\n",
       "      <td>0.000000</td>\n",
       "      <td>0.500000</td>\n",
       "      <td>7.250000</td>\n",
       "      <td>14.000000</td>\n",
       "      <td>8.750000</td>\n",
       "      <td>0.000000</td>\n",
       "      <td>0.000000</td>\n",
       "      <td>0.0</td>\n",
       "      <td>1.000000</td>\n",
       "      <td>4.500000</td>\n",
       "      <td>...</td>\n",
       "      <td>0.0</td>\n",
       "      <td>0.000000</td>\n",
       "      <td>0.500000</td>\n",
       "      <td>6.250000</td>\n",
       "      <td>13.000000</td>\n",
       "      <td>8.500000</td>\n",
       "      <td>1.500000</td>\n",
       "      <td>0.000000</td>\n",
       "      <td>1</td>\n",
       "      <td>1</td>\n",
       "    </tr>\n",
       "    <tr>\n",
       "      <td>396</td>\n",
       "      <td>0.000000</td>\n",
       "      <td>0.500000</td>\n",
       "      <td>7.250000</td>\n",
       "      <td>14.000000</td>\n",
       "      <td>8.750000</td>\n",
       "      <td>0.000000</td>\n",
       "      <td>0.000000</td>\n",
       "      <td>0.0</td>\n",
       "      <td>1.000000</td>\n",
       "      <td>4.500000</td>\n",
       "      <td>...</td>\n",
       "      <td>0.0</td>\n",
       "      <td>0.000000</td>\n",
       "      <td>0.500000</td>\n",
       "      <td>6.250000</td>\n",
       "      <td>13.000000</td>\n",
       "      <td>8.500000</td>\n",
       "      <td>1.500000</td>\n",
       "      <td>0.000000</td>\n",
       "      <td>4</td>\n",
       "      <td>1</td>\n",
       "    </tr>\n",
       "    <tr>\n",
       "      <td>397</td>\n",
       "      <td>0.000000</td>\n",
       "      <td>0.500000</td>\n",
       "      <td>7.250000</td>\n",
       "      <td>14.000000</td>\n",
       "      <td>8.750000</td>\n",
       "      <td>0.000000</td>\n",
       "      <td>0.000000</td>\n",
       "      <td>0.0</td>\n",
       "      <td>1.000000</td>\n",
       "      <td>4.500000</td>\n",
       "      <td>...</td>\n",
       "      <td>0.0</td>\n",
       "      <td>0.000000</td>\n",
       "      <td>0.500000</td>\n",
       "      <td>6.250000</td>\n",
       "      <td>13.000000</td>\n",
       "      <td>8.500000</td>\n",
       "      <td>1.500000</td>\n",
       "      <td>0.000000</td>\n",
       "      <td>8</td>\n",
       "      <td>1</td>\n",
       "    </tr>\n",
       "    <tr>\n",
       "      <td>398</td>\n",
       "      <td>0.000000</td>\n",
       "      <td>0.500000</td>\n",
       "      <td>7.250000</td>\n",
       "      <td>14.000000</td>\n",
       "      <td>8.750000</td>\n",
       "      <td>0.000000</td>\n",
       "      <td>0.000000</td>\n",
       "      <td>0.0</td>\n",
       "      <td>1.000000</td>\n",
       "      <td>4.500000</td>\n",
       "      <td>...</td>\n",
       "      <td>0.0</td>\n",
       "      <td>0.000000</td>\n",
       "      <td>0.500000</td>\n",
       "      <td>6.250000</td>\n",
       "      <td>13.000000</td>\n",
       "      <td>8.500000</td>\n",
       "      <td>1.500000</td>\n",
       "      <td>0.000000</td>\n",
       "      <td>9</td>\n",
       "      <td>1</td>\n",
       "    </tr>\n",
       "    <tr>\n",
       "      <td>295</td>\n",
       "      <td>0.000000</td>\n",
       "      <td>0.666667</td>\n",
       "      <td>9.083333</td>\n",
       "      <td>14.916667</td>\n",
       "      <td>9.375000</td>\n",
       "      <td>2.125000</td>\n",
       "      <td>0.000000</td>\n",
       "      <td>0.0</td>\n",
       "      <td>0.333333</td>\n",
       "      <td>7.333333</td>\n",
       "      <td>...</td>\n",
       "      <td>0.0</td>\n",
       "      <td>0.000000</td>\n",
       "      <td>0.833333</td>\n",
       "      <td>9.791667</td>\n",
       "      <td>13.208333</td>\n",
       "      <td>5.458333</td>\n",
       "      <td>0.500000</td>\n",
       "      <td>0.000000</td>\n",
       "      <td>1</td>\n",
       "      <td>6</td>\n",
       "    </tr>\n",
       "    <tr>\n",
       "      <td>...</td>\n",
       "      <td>...</td>\n",
       "      <td>...</td>\n",
       "      <td>...</td>\n",
       "      <td>...</td>\n",
       "      <td>...</td>\n",
       "      <td>...</td>\n",
       "      <td>...</td>\n",
       "      <td>...</td>\n",
       "      <td>...</td>\n",
       "      <td>...</td>\n",
       "      <td>...</td>\n",
       "      <td>...</td>\n",
       "      <td>...</td>\n",
       "      <td>...</td>\n",
       "      <td>...</td>\n",
       "      <td>...</td>\n",
       "      <td>...</td>\n",
       "      <td>...</td>\n",
       "      <td>...</td>\n",
       "      <td>...</td>\n",
       "      <td>...</td>\n",
       "    </tr>\n",
       "    <tr>\n",
       "      <td>197</td>\n",
       "      <td>1.113043</td>\n",
       "      <td>11.426087</td>\n",
       "      <td>16.000000</td>\n",
       "      <td>12.434783</td>\n",
       "      <td>5.286957</td>\n",
       "      <td>0.765217</td>\n",
       "      <td>0.052174</td>\n",
       "      <td>0.0</td>\n",
       "      <td>5.121739</td>\n",
       "      <td>14.617391</td>\n",
       "      <td>...</td>\n",
       "      <td>0.0</td>\n",
       "      <td>1.008696</td>\n",
       "      <td>11.747826</td>\n",
       "      <td>14.313043</td>\n",
       "      <td>11.426087</td>\n",
       "      <td>7.478261</td>\n",
       "      <td>3.478261</td>\n",
       "      <td>0.513043</td>\n",
       "      <td>9</td>\n",
       "      <td>7</td>\n",
       "    </tr>\n",
       "    <tr>\n",
       "      <td>374</td>\n",
       "      <td>1.142857</td>\n",
       "      <td>12.142857</td>\n",
       "      <td>9.285714</td>\n",
       "      <td>2.571429</td>\n",
       "      <td>3.571429</td>\n",
       "      <td>6.142857</td>\n",
       "      <td>1.428571</td>\n",
       "      <td>0.0</td>\n",
       "      <td>4.714286</td>\n",
       "      <td>14.857143</td>\n",
       "      <td>...</td>\n",
       "      <td>0.0</td>\n",
       "      <td>1.857143</td>\n",
       "      <td>12.857143</td>\n",
       "      <td>9.142857</td>\n",
       "      <td>4.857143</td>\n",
       "      <td>2.857143</td>\n",
       "      <td>2.571429</td>\n",
       "      <td>0.285714</td>\n",
       "      <td>2</td>\n",
       "      <td>2</td>\n",
       "    </tr>\n",
       "    <tr>\n",
       "      <td>375</td>\n",
       "      <td>1.142857</td>\n",
       "      <td>12.142857</td>\n",
       "      <td>9.285714</td>\n",
       "      <td>2.571429</td>\n",
       "      <td>3.571429</td>\n",
       "      <td>6.142857</td>\n",
       "      <td>1.428571</td>\n",
       "      <td>0.0</td>\n",
       "      <td>4.714286</td>\n",
       "      <td>14.857143</td>\n",
       "      <td>...</td>\n",
       "      <td>0.0</td>\n",
       "      <td>1.857143</td>\n",
       "      <td>12.857143</td>\n",
       "      <td>9.142857</td>\n",
       "      <td>4.857143</td>\n",
       "      <td>2.857143</td>\n",
       "      <td>2.571429</td>\n",
       "      <td>0.285714</td>\n",
       "      <td>3</td>\n",
       "      <td>1</td>\n",
       "    </tr>\n",
       "    <tr>\n",
       "      <td>376</td>\n",
       "      <td>1.142857</td>\n",
       "      <td>12.142857</td>\n",
       "      <td>9.285714</td>\n",
       "      <td>2.571429</td>\n",
       "      <td>3.571429</td>\n",
       "      <td>6.142857</td>\n",
       "      <td>1.428571</td>\n",
       "      <td>0.0</td>\n",
       "      <td>4.714286</td>\n",
       "      <td>14.857143</td>\n",
       "      <td>...</td>\n",
       "      <td>0.0</td>\n",
       "      <td>1.857143</td>\n",
       "      <td>12.857143</td>\n",
       "      <td>9.142857</td>\n",
       "      <td>4.857143</td>\n",
       "      <td>2.857143</td>\n",
       "      <td>2.571429</td>\n",
       "      <td>0.285714</td>\n",
       "      <td>4</td>\n",
       "      <td>2</td>\n",
       "    </tr>\n",
       "    <tr>\n",
       "      <td>377</td>\n",
       "      <td>1.142857</td>\n",
       "      <td>12.142857</td>\n",
       "      <td>9.285714</td>\n",
       "      <td>2.571429</td>\n",
       "      <td>3.571429</td>\n",
       "      <td>6.142857</td>\n",
       "      <td>1.428571</td>\n",
       "      <td>0.0</td>\n",
       "      <td>4.714286</td>\n",
       "      <td>14.857143</td>\n",
       "      <td>...</td>\n",
       "      <td>0.0</td>\n",
       "      <td>1.857143</td>\n",
       "      <td>12.857143</td>\n",
       "      <td>9.142857</td>\n",
       "      <td>4.857143</td>\n",
       "      <td>2.857143</td>\n",
       "      <td>2.571429</td>\n",
       "      <td>0.285714</td>\n",
       "      <td>5</td>\n",
       "      <td>2</td>\n",
       "    </tr>\n",
       "  </tbody>\n",
       "</table>\n",
       "<p>409 rows × 64 columns</p>\n",
       "</div>"
      ],
      "text/plain": [
       "           A2         A3         A4         A5        A6        A7        A8  \\\n",
       "395  0.000000   0.500000   7.250000  14.000000  8.750000  0.000000  0.000000   \n",
       "396  0.000000   0.500000   7.250000  14.000000  8.750000  0.000000  0.000000   \n",
       "397  0.000000   0.500000   7.250000  14.000000  8.750000  0.000000  0.000000   \n",
       "398  0.000000   0.500000   7.250000  14.000000  8.750000  0.000000  0.000000   \n",
       "295  0.000000   0.666667   9.083333  14.916667  9.375000  2.125000  0.000000   \n",
       "..        ...        ...        ...        ...       ...       ...       ...   \n",
       "197  1.113043  11.426087  16.000000  12.434783  5.286957  0.765217  0.052174   \n",
       "374  1.142857  12.142857   9.285714   2.571429  3.571429  6.142857  1.428571   \n",
       "375  1.142857  12.142857   9.285714   2.571429  3.571429  6.142857  1.428571   \n",
       "376  1.142857  12.142857   9.285714   2.571429  3.571429  6.142857  1.428571   \n",
       "377  1.142857  12.142857   9.285714   2.571429  3.571429  6.142857  1.428571   \n",
       "\n",
       "      A9       A10        A11  ...  A57       A58        A59        A60  \\\n",
       "395  0.0  1.000000   4.500000  ...  0.0  0.000000   0.500000   6.250000   \n",
       "396  0.0  1.000000   4.500000  ...  0.0  0.000000   0.500000   6.250000   \n",
       "397  0.0  1.000000   4.500000  ...  0.0  0.000000   0.500000   6.250000   \n",
       "398  0.0  1.000000   4.500000  ...  0.0  0.000000   0.500000   6.250000   \n",
       "295  0.0  0.333333   7.333333  ...  0.0  0.000000   0.833333   9.791667   \n",
       "..   ...       ...        ...  ...  ...       ...        ...        ...   \n",
       "197  0.0  5.121739  14.617391  ...  0.0  1.008696  11.747826  14.313043   \n",
       "374  0.0  4.714286  14.857143  ...  0.0  1.857143  12.857143   9.142857   \n",
       "375  0.0  4.714286  14.857143  ...  0.0  1.857143  12.857143   9.142857   \n",
       "376  0.0  4.714286  14.857143  ...  0.0  1.857143  12.857143   9.142857   \n",
       "377  0.0  4.714286  14.857143  ...  0.0  1.857143  12.857143   9.142857   \n",
       "\n",
       "           A61       A62       A63       A64  class  count  \n",
       "395  13.000000  8.500000  1.500000  0.000000      1      1  \n",
       "396  13.000000  8.500000  1.500000  0.000000      4      1  \n",
       "397  13.000000  8.500000  1.500000  0.000000      8      1  \n",
       "398  13.000000  8.500000  1.500000  0.000000      9      1  \n",
       "295  13.208333  5.458333  0.500000  0.000000      1      6  \n",
       "..         ...       ...       ...       ...    ...    ...  \n",
       "197  11.426087  7.478261  3.478261  0.513043      9      7  \n",
       "374   4.857143  2.857143  2.571429  0.285714      2      2  \n",
       "375   4.857143  2.857143  2.571429  0.285714      3      1  \n",
       "376   4.857143  2.857143  2.571429  0.285714      4      2  \n",
       "377   4.857143  2.857143  2.571429  0.285714      5      2  \n",
       "\n",
       "[409 rows x 64 columns]"
      ]
     },
     "execution_count": 50,
     "metadata": {},
     "output_type": "execute_result"
    }
   ],
   "source": [
    "# Let's see how t-closeness fares\n",
    "dft.sort_values([column_x, column_y, sensitive_column])"
   ]
  },
  {
   "cell_type": "code",
   "execution_count": 51,
   "metadata": {},
   "outputs": [],
   "source": [
    "column_x, column_y = feature_columns[:2]\n",
    "t_close_rects = get_partition_rects(df, finished_t_close_partitions, column_x, column_y, indexes, offsets=[0.0, 0.0])"
   ]
  },
  {
   "cell_type": "code",
   "execution_count": 52,
   "metadata": {},
   "outputs": [],
   "source": [
    "dftc = dft\n",
    "dftc['class'] =dftc['class'].astype(str).astype(int)"
   ]
  },
  {
   "cell_type": "code",
   "execution_count": 53,
   "metadata": {},
   "outputs": [],
   "source": [
    "import numpy as np\n",
    "dft3= np.repeat(dftc.values, dftc['count'].values, axis=0)"
   ]
  },
  {
   "cell_type": "code",
   "execution_count": 54,
   "metadata": {},
   "outputs": [],
   "source": [
    "dft2 = pd.DataFrame(np.repeat(dftc.values, dftc['count'].values, axis=0), columns=[ 'A2',    'A3',  'A4',   'A5',  'A6',  'A7',  'A8', 'A9', 'A10', 'A11',\n",
    "    'A12', 'A13',  'A14', 'A15', 'A16', 'A17',  'A18', 'A19',  'A20', 'A21', 'A22', 'A23', 'A24', 'A25', 'A26', 'A27',\n",
    "    'A28', 'A29', 'A30', 'A31', 'A32', 'A33', 'A34', 'A35', 'A36', 'A37', 'A38', 'A39', 'A41', 'A42', 'A43', 'A44', 'A45', 'A46', 'A47', 'A48', 'A49', 'A50', 'A51',  'A52', 'A53', 'A54', 'A55', 'A56', 'A57',\n",
    "    'A58', 'A59', 'A60', 'A61', 'A62', 'A63', 'A64', 'class', 'count'])"
   ]
  },
  {
   "cell_type": "code",
   "execution_count": 55,
   "metadata": {},
   "outputs": [],
   "source": [
    "dft1=dft2.drop(columns=['count'])"
   ]
  },
  {
   "cell_type": "code",
   "execution_count": null,
   "metadata": {},
   "outputs": [],
   "source": []
  },
  {
   "cell_type": "markdown",
   "metadata": {},
   "source": [
    "# Naive Bayes"
   ]
  },
  {
   "cell_type": "code",
   "execution_count": 56,
   "metadata": {},
   "outputs": [],
   "source": [
    "import pandas as pd\n",
    "import numpy as np\n",
    "from sklearn.model_selection import train_test_split\n",
    "from sklearn.model_selection import cross_val_score\n",
    "from sklearn.naive_bayes import GaussianNB\n",
    "from sklearn.metrics import confusion_matrix\n",
    "#from sklearn.naive_bayes import CategoricalNB\n",
    "from sklearn.metrics import accuracy_score\n",
    "import matplotlib.pyplot as plt\n",
    "import seaborn as sns\n",
    "import sklearn.metrics as metrics\n",
    "from sklearn.metrics import roc_curve, roc_auc_score\n",
    "from sklearn.calibration import CalibratedClassifierCV\n",
    "from sklearn.datasets import make_classification\n",
    "#from sklearn.cross_validation import StratifiedShuffleSplit\n",
    "from sklearn.metrics import accuracy_score, f1_score, precision_score, recall_score, classification_report, confusion_matrix"
   ]
  },
  {
   "cell_type": "code",
   "execution_count": 57,
   "metadata": {},
   "outputs": [],
   "source": [
    "#x = dfn.drop(['workclass',  'education', 'marital-status', 'occupation',    'relationship', 'sex','native-country', 'race', 'income'], axis=1)\n",
    "# x= df\n",
    "x = df.drop(columns=['class'])\n",
    "y = df['class']\n",
    "x_train, x_test, y_train, y_test = train_test_split(x,y, test_size=0.25, random_state=42)"
   ]
  },
  {
   "cell_type": "code",
   "execution_count": 58,
   "metadata": {},
   "outputs": [],
   "source": [
    "gnb = GaussianNB()"
   ]
  },
  {
   "cell_type": "code",
   "execution_count": 59,
   "metadata": {},
   "outputs": [],
   "source": [
    "y_pred = gnb.fit(x_train, y_train).predict(x_test)"
   ]
  },
  {
   "cell_type": "code",
   "execution_count": 60,
   "metadata": {},
   "outputs": [
    {
     "data": {
      "text/plain": [
       "81.58995815899581"
      ]
     },
     "execution_count": 60,
     "metadata": {},
     "output_type": "execute_result"
    }
   ],
   "source": [
    "accuracy_nb = accuracy_score(y_test, y_pred)*100\n",
    "accuracy_nb"
   ]
  },
  {
   "cell_type": "code",
   "execution_count": 61,
   "metadata": {},
   "outputs": [
    {
     "data": {
      "text/plain": [
       "0.7925842577394736"
      ]
     },
     "execution_count": 61,
     "metadata": {},
     "output_type": "execute_result"
    }
   ],
   "source": [
    "scores_nb = cross_val_score(gnb, x, y, cv=5)\n",
    "scores_nb.mean()"
   ]
  },
  {
   "cell_type": "code",
   "execution_count": 62,
   "metadata": {},
   "outputs": [],
   "source": [
    "f1_nb = round(f1_score(y_test, y_pred, average=\"weighted\")*100, 2)\n",
    "p_nb= round(precision_score(y_test, y_pred, average=\"weighted\")*100, 2)\n",
    "r_nb= round(recall_score(y_test, y_pred, average=\"weighted\")*100, 2)\n",
    "#auc_nb = roc_auc_score(y_test, y_pred)"
   ]
  },
  {
   "cell_type": "code",
   "execution_count": 63,
   "metadata": {},
   "outputs": [
    {
     "name": "stdout",
     "output_type": "stream",
     "text": [
      "              precision    recall  f1-score   support\n",
      "\n",
      "           0       0.94      0.99      0.97        86\n",
      "           1       0.82      0.74      0.78        98\n",
      "           2       0.91      0.91      0.91       100\n",
      "           3       0.86      0.85      0.86       108\n",
      "           4       0.98      0.57      0.72        81\n",
      "           5       1.00      0.53      0.69        94\n",
      "           6       0.89      0.99      0.94        93\n",
      "           7       0.83      0.93      0.88       118\n",
      "           8       0.47      0.94      0.62        81\n",
      "           9       0.88      0.67      0.76        97\n",
      "\n",
      "    accuracy                           0.82       956\n",
      "   macro avg       0.86      0.81      0.81       956\n",
      "weighted avg       0.86      0.82      0.82       956\n",
      "\n"
     ]
    }
   ],
   "source": [
    "import sklearn\n",
    "from sklearn.metrics import classification_report\n",
    "print (sklearn.metrics.classification_report(y_test, y_pred))"
   ]
  },
  {
   "cell_type": "markdown",
   "metadata": {},
   "source": [
    "# Decision Tree"
   ]
  },
  {
   "cell_type": "code",
   "execution_count": 64,
   "metadata": {},
   "outputs": [
    {
     "data": {
      "text/plain": [
       "90.27196652719665"
      ]
     },
     "execution_count": 64,
     "metadata": {},
     "output_type": "execute_result"
    }
   ],
   "source": [
    "from sklearn import tree\n",
    "clftree = tree.DecisionTreeClassifier()\n",
    "clftree.fit(x_train,y_train)\n",
    "y_pred = clftree.predict(x_test)\n",
    "accuracy_dt = accuracy_score(y_test, y_pred)*100\n",
    "accuracy_dt"
   ]
  },
  {
   "cell_type": "code",
   "execution_count": 65,
   "metadata": {},
   "outputs": [
    {
     "data": {
      "text/plain": [
       "0.8974628463411249"
      ]
     },
     "execution_count": 65,
     "metadata": {},
     "output_type": "execute_result"
    }
   ],
   "source": [
    "scores_dt = cross_val_score(clftree, x, y, cv=5)\n",
    "scores_dt.mean()"
   ]
  },
  {
   "cell_type": "code",
   "execution_count": 66,
   "metadata": {},
   "outputs": [],
   "source": [
    "f1_dt = round(f1_score(y_test, y_pred, average=\"weighted\")*100, 2)\n",
    "p_dt= round(precision_score(y_test, y_pred, average=\"weighted\")*100, 2)\n",
    "r_dt= round(recall_score(y_test, y_pred, average=\"weighted\")*100, 2)\n",
    "#auc_dt = roc_auc_score(y_test, y_pred)"
   ]
  },
  {
   "cell_type": "code",
   "execution_count": 67,
   "metadata": {},
   "outputs": [
    {
     "name": "stdout",
     "output_type": "stream",
     "text": [
      "              precision    recall  f1-score   support\n",
      "\n",
      "           0       0.94      0.98      0.96        86\n",
      "           1       0.89      0.89      0.89        98\n",
      "           2       0.91      0.91      0.91       100\n",
      "           3       0.93      0.83      0.88       108\n",
      "           4       0.86      0.91      0.89        81\n",
      "           5       0.94      0.94      0.94        94\n",
      "           6       0.97      0.96      0.96        93\n",
      "           7       0.93      0.92      0.92       118\n",
      "           8       0.89      0.81      0.85        81\n",
      "           9       0.78      0.89      0.83        97\n",
      "\n",
      "    accuracy                           0.90       956\n",
      "   macro avg       0.90      0.90      0.90       956\n",
      "weighted avg       0.90      0.90      0.90       956\n",
      "\n"
     ]
    }
   ],
   "source": [
    "import sklearn\n",
    "from sklearn.metrics import classification_report\n",
    "print (sklearn.metrics.classification_report(y_test, y_pred))"
   ]
  },
  {
   "cell_type": "markdown",
   "metadata": {},
   "source": [
    "# KNN"
   ]
  },
  {
   "cell_type": "code",
   "execution_count": 68,
   "metadata": {},
   "outputs": [],
   "source": [
    "from sklearn.neighbors import KNeighborsClassifier"
   ]
  },
  {
   "cell_type": "code",
   "execution_count": 69,
   "metadata": {},
   "outputs": [],
   "source": [
    "from sklearn.neighbors import KNeighborsClassifier\n",
    "knn = KNeighborsClassifier(n_neighbors = 5)\n",
    "knn.fit(x_train,y_train)\n",
    "y_pred = knn.predict(x_test)\n",
    "#cm = confusion_matrix(y_test,y_pred)"
   ]
  },
  {
   "cell_type": "code",
   "execution_count": 70,
   "metadata": {},
   "outputs": [
    {
     "data": {
      "text/plain": [
       "98.01255230125523"
      ]
     },
     "execution_count": 70,
     "metadata": {},
     "output_type": "execute_result"
    }
   ],
   "source": [
    "accuracy_knn = accuracy_score(y_test, y_pred)*100\n",
    "accuracy_knn"
   ]
  },
  {
   "cell_type": "code",
   "execution_count": 71,
   "metadata": {},
   "outputs": [
    {
     "data": {
      "text/plain": [
       "0.9822123386818582"
      ]
     },
     "execution_count": 71,
     "metadata": {},
     "output_type": "execute_result"
    }
   ],
   "source": [
    "scores_knn = cross_val_score(knn, x, y, cv=5)\n",
    "scores_knn.mean()"
   ]
  },
  {
   "cell_type": "code",
   "execution_count": 72,
   "metadata": {},
   "outputs": [],
   "source": [
    "f1_knn = round(f1_score(y_test, y_pred, average=\"weighted\")*100, 2)\n",
    "p_knn= round(precision_score(y_test, y_pred, average=\"weighted\")*100, 2)\n",
    "r_knn= round(recall_score(y_test, y_pred, average=\"weighted\")*100, 2)\n",
    "#auc_knn = roc_auc_score(y_test, y_pred)"
   ]
  },
  {
   "cell_type": "code",
   "execution_count": 73,
   "metadata": {},
   "outputs": [
    {
     "name": "stdout",
     "output_type": "stream",
     "text": [
      "              precision    recall  f1-score   support\n",
      "\n",
      "           0       1.00      1.00      1.00        86\n",
      "           1       0.93      1.00      0.97        98\n",
      "           2       0.99      0.98      0.98       100\n",
      "           3       0.97      0.97      0.97       108\n",
      "           4       0.99      1.00      0.99        81\n",
      "           5       0.98      0.99      0.98        94\n",
      "           6       0.99      0.99      0.99        93\n",
      "           7       0.98      0.97      0.98       118\n",
      "           8       1.00      0.94      0.97        81\n",
      "           9       0.98      0.96      0.97        97\n",
      "\n",
      "    accuracy                           0.98       956\n",
      "   macro avg       0.98      0.98      0.98       956\n",
      "weighted avg       0.98      0.98      0.98       956\n",
      "\n"
     ]
    }
   ],
   "source": [
    "import sklearn\n",
    "from sklearn.metrics import classification_report\n",
    "print (sklearn.metrics.classification_report(y_test, y_pred))"
   ]
  },
  {
   "cell_type": "markdown",
   "metadata": {},
   "source": [
    "# SVM"
   ]
  },
  {
   "cell_type": "code",
   "execution_count": 74,
   "metadata": {},
   "outputs": [
    {
     "name": "stderr",
     "output_type": "stream",
     "text": [
      "C:\\Users\\20184069\\AppData\\Local\\Continuum\\anaconda3\\lib\\site-packages\\sklearn\\svm\\base.py:193: FutureWarning: The default value of gamma will change from 'auto' to 'scale' in version 0.22 to account better for unscaled features. Set gamma explicitly to 'auto' or 'scale' to avoid this warning.\n",
      "  \"avoid this warning.\", FutureWarning)\n"
     ]
    }
   ],
   "source": [
    "#rbf kernel\n",
    "from sklearn import svm\n",
    "rbfsvm = svm.SVC(kernel = \"rbf\")\n",
    "rbfsvm.fit(x_train,y_train)\n",
    "y_pred = rbfsvm.predict(x_test)"
   ]
  },
  {
   "cell_type": "code",
   "execution_count": 75,
   "metadata": {},
   "outputs": [
    {
     "data": {
      "text/plain": [
       "50.73221757322176"
      ]
     },
     "execution_count": 75,
     "metadata": {},
     "output_type": "execute_result"
    }
   ],
   "source": [
    "accuracy_svm = accuracy_score(y_test, y_pred)*100\n",
    "accuracy_svm"
   ]
  },
  {
   "cell_type": "code",
   "execution_count": 76,
   "metadata": {},
   "outputs": [
    {
     "name": "stderr",
     "output_type": "stream",
     "text": [
      "C:\\Users\\20184069\\AppData\\Local\\Continuum\\anaconda3\\lib\\site-packages\\sklearn\\svm\\base.py:193: FutureWarning: The default value of gamma will change from 'auto' to 'scale' in version 0.22 to account better for unscaled features. Set gamma explicitly to 'auto' or 'scale' to avoid this warning.\n",
      "  \"avoid this warning.\", FutureWarning)\n",
      "C:\\Users\\20184069\\AppData\\Local\\Continuum\\anaconda3\\lib\\site-packages\\sklearn\\svm\\base.py:193: FutureWarning: The default value of gamma will change from 'auto' to 'scale' in version 0.22 to account better for unscaled features. Set gamma explicitly to 'auto' or 'scale' to avoid this warning.\n",
      "  \"avoid this warning.\", FutureWarning)\n",
      "C:\\Users\\20184069\\AppData\\Local\\Continuum\\anaconda3\\lib\\site-packages\\sklearn\\svm\\base.py:193: FutureWarning: The default value of gamma will change from 'auto' to 'scale' in version 0.22 to account better for unscaled features. Set gamma explicitly to 'auto' or 'scale' to avoid this warning.\n",
      "  \"avoid this warning.\", FutureWarning)\n",
      "C:\\Users\\20184069\\AppData\\Local\\Continuum\\anaconda3\\lib\\site-packages\\sklearn\\svm\\base.py:193: FutureWarning: The default value of gamma will change from 'auto' to 'scale' in version 0.22 to account better for unscaled features. Set gamma explicitly to 'auto' or 'scale' to avoid this warning.\n",
      "  \"avoid this warning.\", FutureWarning)\n",
      "C:\\Users\\20184069\\AppData\\Local\\Continuum\\anaconda3\\lib\\site-packages\\sklearn\\svm\\base.py:193: FutureWarning: The default value of gamma will change from 'auto' to 'scale' in version 0.22 to account better for unscaled features. Set gamma explicitly to 'auto' or 'scale' to avoid this warning.\n",
      "  \"avoid this warning.\", FutureWarning)\n"
     ]
    },
    {
     "data": {
      "text/plain": [
       "0.6654901584534038"
      ]
     },
     "execution_count": 76,
     "metadata": {},
     "output_type": "execute_result"
    }
   ],
   "source": [
    "scores_svm = cross_val_score(rbfsvm, x, y, cv=5)\n",
    "scores_svm.mean()"
   ]
  },
  {
   "cell_type": "code",
   "execution_count": 77,
   "metadata": {},
   "outputs": [],
   "source": [
    "f1_svm = round(f1_score(y_test, y_pred, average=\"weighted\")*100, 2)\n",
    "p_svm= round(precision_score(y_test, y_pred, average=\"weighted\")*100, 2)\n",
    "r_svm= round(recall_score(y_test, y_pred, average=\"weighted\")*100, 2)\n",
    "#auc_svm = roc_auc_score(y_test, y_pred)"
   ]
  },
  {
   "cell_type": "code",
   "execution_count": 78,
   "metadata": {},
   "outputs": [
    {
     "name": "stdout",
     "output_type": "stream",
     "text": [
      "              precision    recall  f1-score   support\n",
      "\n",
      "           0       1.00      0.55      0.71        86\n",
      "           1       1.00      0.53      0.69        98\n",
      "           2       1.00      0.45      0.62       100\n",
      "           3       1.00      0.46      0.63       108\n",
      "           4       0.98      0.73      0.84        81\n",
      "           5       1.00      0.30      0.46        94\n",
      "           6       1.00      0.63      0.78        93\n",
      "           7       1.00      0.25      0.41       118\n",
      "           8       0.15      1.00      0.26        81\n",
      "           9       1.00      0.35      0.52        97\n",
      "\n",
      "    accuracy                           0.51       956\n",
      "   macro avg       0.91      0.53      0.59       956\n",
      "weighted avg       0.93      0.51      0.59       956\n",
      "\n"
     ]
    }
   ],
   "source": [
    "import sklearn\n",
    "from sklearn.metrics import classification_report\n",
    "print (sklearn.metrics.classification_report(y_test, y_pred))"
   ]
  },
  {
   "cell_type": "markdown",
   "metadata": {},
   "source": [
    "# Random Forest"
   ]
  },
  {
   "cell_type": "code",
   "execution_count": 79,
   "metadata": {},
   "outputs": [],
   "source": [
    "from sklearn.ensemble import RandomForestClassifier\n",
    "rftree=RandomForestClassifier(n_estimators=100)\n",
    "rftree.fit(x_train,y_train)\n",
    "y_pred = rftree.predict(x_test)"
   ]
  },
  {
   "cell_type": "code",
   "execution_count": 80,
   "metadata": {},
   "outputs": [
    {
     "data": {
      "text/plain": [
       "97.90794979079497"
      ]
     },
     "execution_count": 80,
     "metadata": {},
     "output_type": "execute_result"
    }
   ],
   "source": [
    "accuracy_rf = accuracy_score(y_test, y_pred)*100\n",
    "accuracy_rf"
   ]
  },
  {
   "cell_type": "code",
   "execution_count": 81,
   "metadata": {},
   "outputs": [
    {
     "data": {
      "text/plain": [
       "0.9782988972277146"
      ]
     },
     "execution_count": 81,
     "metadata": {},
     "output_type": "execute_result"
    }
   ],
   "source": [
    "scores_rf = cross_val_score(rftree, x, y, cv=5)\n",
    "scores_rf.mean()"
   ]
  },
  {
   "cell_type": "code",
   "execution_count": 83,
   "metadata": {},
   "outputs": [],
   "source": [
    "f1_rf = round(f1_score(y_test, y_pred, average=\"weighted\")*100, 2)\n",
    "p_rf= round(precision_score(y_test, y_pred, average=\"weighted\")*100, 2)\n",
    "r_rf= round(recall_score(y_test, y_pred, average=\"weighted\")*100, 2)\n",
    "#auc_rf = roc_auc_score(y_test, y_pred)"
   ]
  },
  {
   "cell_type": "code",
   "execution_count": 84,
   "metadata": {},
   "outputs": [
    {
     "name": "stdout",
     "output_type": "stream",
     "text": [
      "              precision    recall  f1-score   support\n",
      "\n",
      "           0       1.00      1.00      1.00        86\n",
      "           1       0.98      0.98      0.98        98\n",
      "           2       0.99      0.98      0.98       100\n",
      "           3       0.98      0.96      0.97       108\n",
      "           4       0.98      1.00      0.99        81\n",
      "           5       0.97      0.99      0.98        94\n",
      "           6       0.98      0.99      0.98        93\n",
      "           7       0.97      0.97      0.97       118\n",
      "           8       0.98      0.98      0.98        81\n",
      "           9       0.97      0.95      0.96        97\n",
      "\n",
      "    accuracy                           0.98       956\n",
      "   macro avg       0.98      0.98      0.98       956\n",
      "weighted avg       0.98      0.98      0.98       956\n",
      "\n"
     ]
    }
   ],
   "source": [
    "import sklearn\n",
    "from sklearn.metrics import classification_report\n",
    "print (sklearn.metrics.classification_report(y_test, y_pred))"
   ]
  },
  {
   "cell_type": "markdown",
   "metadata": {},
   "source": [
    "# Logistic Regression"
   ]
  },
  {
   "cell_type": "code",
   "execution_count": 85,
   "metadata": {},
   "outputs": [
    {
     "name": "stderr",
     "output_type": "stream",
     "text": [
      "C:\\Users\\20184069\\AppData\\Local\\Continuum\\anaconda3\\lib\\site-packages\\sklearn\\linear_model\\logistic.py:432: FutureWarning: Default solver will be changed to 'lbfgs' in 0.22. Specify a solver to silence this warning.\n",
      "  FutureWarning)\n",
      "C:\\Users\\20184069\\AppData\\Local\\Continuum\\anaconda3\\lib\\site-packages\\sklearn\\linear_model\\logistic.py:469: FutureWarning: Default multi_class will be changed to 'auto' in 0.22. Specify the multi_class option to silence this warning.\n",
      "  \"this warning.\", FutureWarning)\n"
     ]
    }
   ],
   "source": [
    "from sklearn.linear_model import LogisticRegression\n",
    "from sklearn import metrics\n",
    "logReg = LogisticRegression()\n",
    "logReg.fit(x_train,y_train)\n",
    "y_pred = logReg.predict(x_test)"
   ]
  },
  {
   "cell_type": "code",
   "execution_count": 86,
   "metadata": {},
   "outputs": [
    {
     "data": {
      "text/plain": [
       "96.54811715481172"
      ]
     },
     "execution_count": 86,
     "metadata": {},
     "output_type": "execute_result"
    }
   ],
   "source": [
    "accuracy_lr = accuracy_score(y_test, y_pred)*100\n",
    "accuracy_lr"
   ]
  },
  {
   "cell_type": "code",
   "execution_count": 87,
   "metadata": {},
   "outputs": [
    {
     "name": "stderr",
     "output_type": "stream",
     "text": [
      "C:\\Users\\20184069\\AppData\\Local\\Continuum\\anaconda3\\lib\\site-packages\\sklearn\\linear_model\\logistic.py:432: FutureWarning: Default solver will be changed to 'lbfgs' in 0.22. Specify a solver to silence this warning.\n",
      "  FutureWarning)\n",
      "C:\\Users\\20184069\\AppData\\Local\\Continuum\\anaconda3\\lib\\site-packages\\sklearn\\linear_model\\logistic.py:469: FutureWarning: Default multi_class will be changed to 'auto' in 0.22. Specify the multi_class option to silence this warning.\n",
      "  \"this warning.\", FutureWarning)\n",
      "C:\\Users\\20184069\\AppData\\Local\\Continuum\\anaconda3\\lib\\site-packages\\sklearn\\linear_model\\logistic.py:432: FutureWarning: Default solver will be changed to 'lbfgs' in 0.22. Specify a solver to silence this warning.\n",
      "  FutureWarning)\n",
      "C:\\Users\\20184069\\AppData\\Local\\Continuum\\anaconda3\\lib\\site-packages\\sklearn\\linear_model\\logistic.py:469: FutureWarning: Default multi_class will be changed to 'auto' in 0.22. Specify the multi_class option to silence this warning.\n",
      "  \"this warning.\", FutureWarning)\n",
      "C:\\Users\\20184069\\AppData\\Local\\Continuum\\anaconda3\\lib\\site-packages\\sklearn\\linear_model\\logistic.py:432: FutureWarning: Default solver will be changed to 'lbfgs' in 0.22. Specify a solver to silence this warning.\n",
      "  FutureWarning)\n",
      "C:\\Users\\20184069\\AppData\\Local\\Continuum\\anaconda3\\lib\\site-packages\\sklearn\\linear_model\\logistic.py:469: FutureWarning: Default multi_class will be changed to 'auto' in 0.22. Specify the multi_class option to silence this warning.\n",
      "  \"this warning.\", FutureWarning)\n",
      "C:\\Users\\20184069\\AppData\\Local\\Continuum\\anaconda3\\lib\\site-packages\\sklearn\\linear_model\\logistic.py:432: FutureWarning: Default solver will be changed to 'lbfgs' in 0.22. Specify a solver to silence this warning.\n",
      "  FutureWarning)\n",
      "C:\\Users\\20184069\\AppData\\Local\\Continuum\\anaconda3\\lib\\site-packages\\sklearn\\linear_model\\logistic.py:469: FutureWarning: Default multi_class will be changed to 'auto' in 0.22. Specify the multi_class option to silence this warning.\n",
      "  \"this warning.\", FutureWarning)\n",
      "C:\\Users\\20184069\\AppData\\Local\\Continuum\\anaconda3\\lib\\site-packages\\sklearn\\linear_model\\logistic.py:432: FutureWarning: Default solver will be changed to 'lbfgs' in 0.22. Specify a solver to silence this warning.\n",
      "  FutureWarning)\n",
      "C:\\Users\\20184069\\AppData\\Local\\Continuum\\anaconda3\\lib\\site-packages\\sklearn\\linear_model\\logistic.py:469: FutureWarning: Default multi_class will be changed to 'auto' in 0.22. Specify the multi_class option to silence this warning.\n",
      "  \"this warning.\", FutureWarning)\n"
     ]
    },
    {
     "data": {
      "text/plain": [
       "0.9613004468442983"
      ]
     },
     "execution_count": 87,
     "metadata": {},
     "output_type": "execute_result"
    }
   ],
   "source": [
    "scores_lr = cross_val_score(logReg, x, y, cv=5)\n",
    "scores_lr.mean()"
   ]
  },
  {
   "cell_type": "code",
   "execution_count": 89,
   "metadata": {},
   "outputs": [],
   "source": [
    "f1_lr= round(f1_score(y_test, y_pred, average=\"weighted\")*100, 2)\n",
    "p_lr= round(precision_score(y_test, y_pred, average=\"weighted\")*100, 2)\n",
    "r_lr= round(recall_score(y_test, y_pred, average=\"weighted\")*100, 2)\n",
    "#auc_lr = roc_auc_score(y_test, y_pred)"
   ]
  },
  {
   "cell_type": "code",
   "execution_count": 90,
   "metadata": {},
   "outputs": [
    {
     "name": "stdout",
     "output_type": "stream",
     "text": [
      "              precision    recall  f1-score   support\n",
      "\n",
      "           0       1.00      0.99      0.99        86\n",
      "           1       0.94      0.94      0.94        98\n",
      "           2       0.98      0.98      0.98       100\n",
      "           3       0.98      0.95      0.97       108\n",
      "           4       0.96      0.96      0.96        81\n",
      "           5       0.94      1.00      0.97        94\n",
      "           6       0.98      0.98      0.98        93\n",
      "           7       1.00      0.99      1.00       118\n",
      "           8       0.93      0.94      0.93        81\n",
      "           9       0.94      0.92      0.93        97\n",
      "\n",
      "    accuracy                           0.97       956\n",
      "   macro avg       0.96      0.96      0.96       956\n",
      "weighted avg       0.97      0.97      0.97       956\n",
      "\n"
     ]
    }
   ],
   "source": [
    "import sklearn\n",
    "from sklearn.metrics import classification_report\n",
    "print (sklearn.metrics.classification_report(y_test, y_pred))"
   ]
  },
  {
   "cell_type": "markdown",
   "metadata": {},
   "source": [
    "# AdaBoost"
   ]
  },
  {
   "cell_type": "code",
   "execution_count": 91,
   "metadata": {},
   "outputs": [
    {
     "data": {
      "text/plain": [
       "27.615062761506277"
      ]
     },
     "execution_count": 91,
     "metadata": {},
     "output_type": "execute_result"
    }
   ],
   "source": [
    "from sklearn.ensemble import AdaBoostClassifier, GradientBoostingClassifier\n",
    "adaboost= AdaBoostClassifier()\n",
    "adaboost.fit(x_train,y_train)\n",
    "y_pred = adaboost.predict(x_test)\n",
    "accuracy_ab = accuracy_score(y_test, y_pred)*100\n",
    "accuracy_ab"
   ]
  },
  {
   "cell_type": "code",
   "execution_count": 92,
   "metadata": {},
   "outputs": [
    {
     "data": {
      "text/plain": [
       "0.545566419538017"
      ]
     },
     "execution_count": 92,
     "metadata": {},
     "output_type": "execute_result"
    }
   ],
   "source": [
    "scores_ab = cross_val_score(adaboost, x, y, cv=5)\n",
    "scores_ab.mean()"
   ]
  },
  {
   "cell_type": "code",
   "execution_count": 93,
   "metadata": {},
   "outputs": [
    {
     "name": "stderr",
     "output_type": "stream",
     "text": [
      "C:\\Users\\20184069\\AppData\\Local\\Continuum\\anaconda3\\lib\\site-packages\\sklearn\\metrics\\classification.py:1437: UndefinedMetricWarning: F-score is ill-defined and being set to 0.0 in labels with no predicted samples.\n",
      "  'precision', 'predicted', average, warn_for)\n",
      "C:\\Users\\20184069\\AppData\\Local\\Continuum\\anaconda3\\lib\\site-packages\\sklearn\\metrics\\classification.py:1437: UndefinedMetricWarning: Precision is ill-defined and being set to 0.0 in labels with no predicted samples.\n",
      "  'precision', 'predicted', average, warn_for)\n"
     ]
    }
   ],
   "source": [
    "f1_ab = round(f1_score(y_test, y_pred, average=\"weighted\")*100, 2)\n",
    "p_ab= round(precision_score(y_test, y_pred, average=\"weighted\")*100, 2)\n",
    "r_ab= round(recall_score(y_test, y_pred, average=\"weighted\")*100, 2)\n",
    "#auc_ab = roc_auc_score(y_test, y_pred)"
   ]
  },
  {
   "cell_type": "code",
   "execution_count": 94,
   "metadata": {},
   "outputs": [
    {
     "name": "stdout",
     "output_type": "stream",
     "text": [
      "              precision    recall  f1-score   support\n",
      "\n",
      "           0       0.71      0.93      0.81        86\n",
      "           1       0.44      0.11      0.18        98\n",
      "           2       0.00      0.00      0.00       100\n",
      "           3       0.00      0.00      0.00       108\n",
      "           4       0.00      0.00      0.00        81\n",
      "           5       0.50      0.07      0.13        94\n",
      "           6       0.36      0.96      0.53        93\n",
      "           7       0.00      0.00      0.00       118\n",
      "           8       0.14      0.94      0.24        81\n",
      "           9       0.25      0.01      0.02        97\n",
      "\n",
      "    accuracy                           0.28       956\n",
      "   macro avg       0.24      0.30      0.19       956\n",
      "weighted avg       0.23      0.28      0.18       956\n",
      "\n"
     ]
    },
    {
     "name": "stderr",
     "output_type": "stream",
     "text": [
      "C:\\Users\\20184069\\AppData\\Local\\Continuum\\anaconda3\\lib\\site-packages\\sklearn\\metrics\\classification.py:1437: UndefinedMetricWarning: Precision and F-score are ill-defined and being set to 0.0 in labels with no predicted samples.\n",
      "  'precision', 'predicted', average, warn_for)\n"
     ]
    }
   ],
   "source": [
    "import sklearn\n",
    "from sklearn.metrics import classification_report\n",
    "print (sklearn.metrics.classification_report(y_test, y_pred))"
   ]
  },
  {
   "cell_type": "markdown",
   "metadata": {},
   "source": [
    "# Bagging"
   ]
  },
  {
   "cell_type": "code",
   "execution_count": 95,
   "metadata": {},
   "outputs": [
    {
     "data": {
      "text/plain": [
       "96.33891213389121"
      ]
     },
     "execution_count": 95,
     "metadata": {},
     "output_type": "execute_result"
    }
   ],
   "source": [
    "from sklearn.ensemble.bagging import BaggingClassifier\n",
    "bg = BaggingClassifier()\n",
    "bg.fit(x_train,y_train)\n",
    "y_pred = bg.predict(x_test)\n",
    "accuracy_bg = accuracy_score(y_test, y_pred)*100\n",
    "accuracy_bg"
   ]
  },
  {
   "cell_type": "code",
   "execution_count": 96,
   "metadata": {},
   "outputs": [
    {
     "data": {
      "text/plain": [
       "0.9550108142119672"
      ]
     },
     "execution_count": 96,
     "metadata": {},
     "output_type": "execute_result"
    }
   ],
   "source": [
    "scores_bg = cross_val_score(bg, x, y, cv=5)\n",
    "scores_bg.mean()"
   ]
  },
  {
   "cell_type": "code",
   "execution_count": 97,
   "metadata": {},
   "outputs": [],
   "source": [
    "f1_bg = round(f1_score(y_test, y_pred, average=\"weighted\")*100, 2)\n",
    "p_bg= round(precision_score(y_test, y_pred, average=\"weighted\")*100, 2)\n",
    "r_bg= round(recall_score(y_test, y_pred, average=\"weighted\")*100, 2)\n",
    "#auc_bg = roc_auc_score(y_test, y_pred)"
   ]
  },
  {
   "cell_type": "code",
   "execution_count": 98,
   "metadata": {},
   "outputs": [
    {
     "name": "stdout",
     "output_type": "stream",
     "text": [
      "              precision    recall  f1-score   support\n",
      "\n",
      "           0       0.99      1.00      0.99        86\n",
      "           1       0.94      1.00      0.97        98\n",
      "           2       0.98      0.95      0.96       100\n",
      "           3       0.94      0.94      0.94       108\n",
      "           4       0.95      0.99      0.97        81\n",
      "           5       1.00      0.97      0.98        94\n",
      "           6       0.99      0.99      0.99        93\n",
      "           7       0.98      0.94      0.96       118\n",
      "           8       0.93      0.91      0.92        81\n",
      "           9       0.94      0.95      0.94        97\n",
      "\n",
      "    accuracy                           0.96       956\n",
      "   macro avg       0.96      0.96      0.96       956\n",
      "weighted avg       0.96      0.96      0.96       956\n",
      "\n"
     ]
    }
   ],
   "source": [
    "import sklearn\n",
    "from sklearn.metrics import classification_report\n",
    "print (sklearn.metrics.classification_report(y_test, y_pred))"
   ]
  },
  {
   "cell_type": "code",
   "execution_count": 99,
   "metadata": {},
   "outputs": [
    {
     "data": {
      "text/plain": [
       "(90.27, 81.59, 98.01, 50.73, 97.91, 96.55, 27.62, 96.34)"
      ]
     },
     "execution_count": 99,
     "metadata": {},
     "output_type": "execute_result"
    }
   ],
   "source": [
    "c2= ( round(accuracy_dt,2), round(accuracy_nb,2), round(accuracy_knn,2), round(accuracy_svm, 2), round(accuracy_rf, 2), round(accuracy_lr,2),  round(accuracy_ab, 2), round(accuracy_bg,2))\n",
    "c2"
   ]
  },
  {
   "cell_type": "code",
   "execution_count": 100,
   "metadata": {},
   "outputs": [
    {
     "data": {
      "text/plain": [
       "(89.75, 79.26, 98.22, 66.55, 97.83, 96.13, 54.56, 95.5)"
      ]
     },
     "execution_count": 100,
     "metadata": {},
     "output_type": "execute_result"
    }
   ],
   "source": [
    "cc =( round(scores_dt.mean()*100, 2), round(scores_nb.mean()*100,2 ), round(scores_knn.mean()*100,2), round(scores_svm.mean()*100, 2), round(scores_rf.mean()*100, 2), round(scores_lr.mean()*100, 2),   round(scores_ab.mean()*100, 2), round(scores_bg.mean()*100,2)  )\n",
    "cc"
   ]
  },
  {
   "cell_type": "code",
   "execution_count": 101,
   "metadata": {},
   "outputs": [
    {
     "data": {
      "text/plain": [
       "(90.29, 81.74, 98.01, 58.71, 97.9, 96.55, 17.72, 96.34)"
      ]
     },
     "execution_count": 101,
     "metadata": {},
     "output_type": "execute_result"
    }
   ],
   "source": [
    "f1 = (f1_dt, f1_nb , f1_knn, f1_svm, f1_rf , f1_lr , f1_ab , f1_bg )\n",
    "f1"
   ]
  },
  {
   "cell_type": "code",
   "execution_count": 102,
   "metadata": {},
   "outputs": [
    {
     "data": {
      "text/plain": [
       "(90.48, 86.02, 98.06, 92.63, 97.91, 96.57, 23.08, 96.38)"
      ]
     },
     "execution_count": 102,
     "metadata": {},
     "output_type": "execute_result"
    }
   ],
   "source": [
    "p = (p_dt, p_nb , p_knn, p_svm, p_rf , p_lr , p_ab , p_bg )\n",
    "p"
   ]
  },
  {
   "cell_type": "code",
   "execution_count": 103,
   "metadata": {},
   "outputs": [
    {
     "data": {
      "text/plain": [
       "(90.27, 81.59, 98.01, 50.73, 97.91, 96.55, 27.62, 96.34)"
      ]
     },
     "execution_count": 103,
     "metadata": {},
     "output_type": "execute_result"
    }
   ],
   "source": [
    "r = (r_dt, r_nb , r_knn, r_svm, r_rf , r_lr , r_ab , r_bg )\n",
    "r"
   ]
  },
  {
   "cell_type": "code",
   "execution_count": null,
   "metadata": {},
   "outputs": [],
   "source": [
    "#auc= ( round(auc_dt.mean()*100, 2), round(auc_nb.mean()*100,2 ), round(auc_knn.mean()*100,2), round(auc_svm.mean()*100, 2), round(auc_rf.mean()*100, 2), round(auc_lr.mean()*100, 2),   round(auc_ab.mean()*100, 2), round(auc_bg.mean()*100,2)    )\n",
    "#auc"
   ]
  },
  {
   "cell_type": "code",
   "execution_count": 695,
   "metadata": {},
   "outputs": [],
   "source": [
    "# t= 0.2\n",
    "# accuracy\n",
    "# 23.74, 24.9, 18.41, 23.85, 23.85, 23.95, 22.7, 25.31\n",
    "# cross-validation\n",
    "# 9.73, 16.95, 7.09, 9.04, 10.43, 10.22, 12.82, 9.8\n",
    "# f1\n",
    "# 20.29, 19.08, 16.98, 20.42, 21.0, 20.52, 19.16, 20.17\n",
    "# precision\n",
    "# 20.82, 22.07, 17.73, 20.85, 23.15, 23.96, 21.05, 23.95\n",
    "# recall\n",
    "# 23.74, 24.9, 18.41, 23.85, 23.85, 23.95, 22.7, 25.31"
   ]
  },
  {
   "cell_type": "code",
   "execution_count": 808,
   "metadata": {},
   "outputs": [],
   "source": [
    "# t= 0.3\n",
    "# accuracy\n",
    "# 27.3, 31.9, 26.26, 26.78, 26.46, 31.69, 26.46, 26.99\n",
    "# cross-validation\n",
    "# 9.17, 26.06, 12.0, 10.06, 11.85, 17.45, 22.39, 10.36\n",
    "# f1\n",
    "# 25.36, 26.23, 25.23, 25.34, 25.07, 29.78, 24.19, 26.05\n",
    "# precision\n",
    "# 25.42, 29.79, 26.5, 25.83, 25.26, 31.61, 26.52, 26.17\n",
    "# recall\n",
    "# 27.3, 31.9, 26.26, 26.78, 26.46, 31.69, 26.46, 26.99"
   ]
  },
  {
   "cell_type": "code",
   "execution_count": 809,
   "metadata": {},
   "outputs": [],
   "source": [
    "# t= 0.4\n",
    "# accuracy\n",
    "# 33.37, 38.28, 32.22, 32.64, 32.53, 39.64, 30.44, 31.59\n",
    "# cross-validation\n",
    "# 11.94, 29.76, 15.34, 10.21, 14.17, 26.62, 28.27, 13.17\n",
    "# f1\n",
    "# 32.53, 34.66, 31.7, 31.92, 32.12, 38.91, 26.84, 30.88\n",
    "# precision\n",
    "# 32.63, 41.35, 31.8, 32.16, 32.37, 39.14, 29.55, 30.84\n",
    "# recall\n",
    "# 33.37, 38.28, 32.22, 32.64, 32.53, 39.64, 30.44, 31.59"
   ]
  },
  {
   "cell_type": "code",
   "execution_count": 866,
   "metadata": {},
   "outputs": [],
   "source": [
    "# t= 0.5\n",
    "# accuracy\n",
    "# 41.11, 37.55, 38.28, 42.57, 40.27, 50.63, 40.59, 40.59\n",
    "# cross-validation\n",
    "# 14.21, 35.35, 19.56, 11.4, 17.55, 34.17, 35.64, 16.54\n",
    "# f1\n",
    "# 39.89, 33.0, 37.29, 42.17, 39.39, 50.12, 38.68, 39.89\n",
    "# precision\n",
    "# 40.44, 38.39, 37.84, 42.57, 39.26, 50.67, 39.87, 39.89\n",
    "# recall\n",
    "# 41.11, 37.55, 38.28, 42.57, 40.27, 50.63, 40.59, 40.59"
   ]
  },
  {
   "cell_type": "code",
   "execution_count": 534,
   "metadata": {},
   "outputs": [],
   "source": [
    "# l =2\n",
    "# accuracy\n",
    "# 53.24, 61.19, 63.7, 54.92, 57.53, 66.53, 50.63, 54.81\n",
    "# cross-validation\n",
    "# 32.65, 56.96, 58.43, 20.69, 38.9, 62.96, 50.99, 37.65\n",
    "# f1\n",
    "# 52.34, 60.24, 63.04, 55.11, 56.89, 66.0, 49.08, 54.33\n",
    "# precision\n",
    "# 52.98, 63.97, 63.15, 55.66, 56.65, 66.25, 49.84, 54.15\n",
    "# recall \n",
    "# 53.24, 61.19, 63.7, 54.92, 57.53, 66.53, 50.63, 54.81"
   ]
  },
  {
   "cell_type": "code",
   "execution_count": 533,
   "metadata": {},
   "outputs": [],
   "source": [
    "# l =3\n",
    "# accuracy\n",
    "# 55.86, 54.08, 56.07, 56.59, 55.33, 60.46, 54.92, 54.92\n",
    "# cross\n",
    "# 18.79, 49.17, 33.36, 15.54, 22.03, 48.55, 36.82, 21.01\n",
    "# f1\n",
    "# 54.86, 51.7, 55.34, 56.58, 55.06, 60.22, 53.78, 54.41\n",
    "# precision\n",
    "# 54.83, 57.73, 55.43, 57.7, 55.44, 60.93, 54.06, 54.62\n",
    "# recall \n",
    "# 55.86, 54.08, 56.07, 56.59, 55.33, 60.46, 54.92, 54.92"
   ]
  },
  {
   "cell_type": "code",
   "execution_count": 593,
   "metadata": {},
   "outputs": [],
   "source": [
    "# l =4\n",
    "# accuracy\n",
    "# 50.63, 48.64, 46.13, 51.57, 50.31, 55.54, 45.82, 52.2\n",
    "# cross\n",
    "# 15.21, 43.2, 18.19, 12.21, 16.32, 40.42, 37.02, 16.73\n",
    "# f1\n",
    "# 49.53, 44.8, 45.37, 51.44, 49.56, 54.92, 44.24, 51.63\n",
    "# precision\n",
    "# 49.69, 51.77, 45.84, 51.55, 49.21, 55.2, 45.76, 51.5\n",
    "# recall \n",
    "# 50.63, 48.64, 46.13, 51.57, 50.31, 55.54, 45.82, 52.2"
   ]
  },
  {
   "cell_type": "code",
   "execution_count": 649,
   "metadata": {},
   "outputs": [],
   "source": [
    "# l = 5\n",
    "# accuracy\n",
    "# 50.63, 48.74, 47.18, 50.0, 49.48, 52.41, 41.53, 49.9\n",
    "# cross\n",
    "# 14.59, 38.98, 17.57, 11.33, 15.56, 31.27, 33.18, 15.82\n",
    "# f1\n",
    "# 49.92, 46.51, 46.38, 49.96, 49.2, 52.12, 40.7, 49.29\n",
    "# precision\n",
    "# 52.98, 63.97, 63.15, 55.66, 56.65, 66.25, 49.84, 54.15\n",
    "# recall \n",
    "# 53.24, 61.19, 63.7, 54.92, 57.53, 66.53, 50.63, 54.81"
   ]
  },
  {
   "cell_type": "code",
   "execution_count": 233,
   "metadata": {},
   "outputs": [],
   "source": [
    "# k=3\n",
    "# accuracy\n",
    "# 62.55, 62.03, 68.41, 62.66, 62.76, 73.64, 54.6, 64.12\n",
    "# cross\n",
    "# 45.45, 61.42, 64.57, 25.95, 54.06, 68.75, 50.68, 52.26\n",
    "# f1-score\n",
    "# 61.81, 58.22, 67.99, 63.33, 62.43, 73.39, 53.79, 63.69\n",
    "# precision\n",
    "# 62.19, 64.74, 68.44, 64.7, 62.73, 73.79, 55.38, 63.6\n",
    "# recall\n",
    "# 62.55, 62.03, 68.41, 62.66, 62.76, 73.64, 54.6, 64.12"
   ]
  },
  {
   "cell_type": "code",
   "execution_count": 357,
   "metadata": {},
   "outputs": [],
   "source": [
    "# k=4\n",
    "# accuracy\n",
    "#61.4, 64.12, 64.96, 63.7, 62.13, 68.83, 56.9, 60.98\n",
    "# cross\n",
    "# 40.47, 58.2, 58.66, 24.75, 47.46, 64.85, 48.72, 45.65\n",
    "# f1-score\n",
    "# 60.86, 64.16, 64.26, 63.97, 62.0, 68.41, 54.86, 60.8\n",
    "# precision\n",
    "# 61.49, 68.85, 64.52, 64.46, 62.19, 68.67, 55.85, 61.08\n",
    "# recall\n",
    "# 61.4, 64.12, 64.96, 63.7, 62.13, 68.83, 56.9, 60.98"
   ]
  },
  {
   "cell_type": "code",
   "execution_count": 356,
   "metadata": {},
   "outputs": [],
   "source": [
    "# k=5\n",
    "# accuracy\n",
    "# 58.26, 57.64, 60.67, 60.04, 59.0, 65.48, 49.16, 58.89\n",
    "# cross\n",
    "# 30.88, 56.0, 49.91, 18.68, 37.49, 59.28, 44.72, 37.05\n",
    "# f1-score\n",
    "# 57.67, 56.67, 60.34, 60.3, 58.77, 65.22, 47.36, 58.45\n",
    "# precision\n",
    "# 58.14, 62.5, 61.26, 61.23, 58.95, 65.58, 48.47, 58.46\n",
    "# recall\n",
    "# 58.26, 57.64, 60.67, 60.04, 59.0, 65.48, 49.16, 58.89"
   ]
  },
  {
   "cell_type": "code",
   "execution_count": null,
   "metadata": {},
   "outputs": [],
   "source": []
  },
  {
   "cell_type": "code",
   "execution_count": null,
   "metadata": {},
   "outputs": [],
   "source": []
  },
  {
   "cell_type": "markdown",
   "metadata": {},
   "source": [
    "# Results Visulalization"
   ]
  },
  {
   "cell_type": "code",
   "execution_count": 8,
   "metadata": {},
   "outputs": [],
   "source": [
    "def heatmap(data, row_labels, col_labels, ax=None,\n",
    "            cbar_kw={}, cbarlabel=\"\", **kwargs):\n",
    "    \"\"\"\n",
    "    Create a heatmap from a numpy array and two lists of labels.\n",
    "\n",
    "    Parameters\n",
    "    ----------\n",
    "    data\n",
    "        A 2D numpy array of shape (N, M).\n",
    "    row_labels\n",
    "        A list or array of length N with the labels for the rows.\n",
    "    col_labels\n",
    "        A list or array of length M with the labels for the columns.\n",
    "    ax\n",
    "        A `matplotlib.axes.Axes` instance to which the heatmap is plotted.  If\n",
    "        not provided, use current axes or create a new one.  Optional.\n",
    "    cbar_kw\n",
    "        A dictionary with arguments to `matplotlib.Figure.colorbar`.  Optional.\n",
    "    cbarlabel\n",
    "        The label for the colorbar.  Optional.\n",
    "    **kwargs\n",
    "        All other arguments are forwarded to `imshow`.\n",
    "    \"\"\"\n",
    "\n",
    "    if not ax:\n",
    "        ax = plt.gca()\n",
    "\n",
    "    # Plot the heatmap\n",
    "    im = ax.imshow(data, **kwargs)\n",
    "\n",
    "    # Create colorbar\n",
    "    cbar = ax.figure.colorbar(im, ax=ax, **cbar_kw)\n",
    "    cbar.ax.set_ylabel(cbarlabel, rotation=-90, va=\"bottom\")\n",
    "\n",
    "    # We want to show all ticks...\n",
    "    ax.set_xticks(np.arange(data.shape[1]))\n",
    "    ax.set_yticks(np.arange(data.shape[0]))\n",
    "    # ... and label them with the respective list entries.\n",
    "    ax.set_xticklabels(col_labels)\n",
    "    ax.set_yticklabels(row_labels)\n",
    "\n",
    "    # Let the horizontal axes labeling appear on top.\n",
    "    ax.tick_params(top=True, bottom=False,\n",
    "                   labeltop=True, labelbottom=False)\n",
    "\n",
    "    # Rotate the tick labels and set their alignment.\n",
    "    plt.setp(ax.get_xticklabels(), rotation=-30, ha=\"right\",\n",
    "             rotation_mode=\"anchor\")\n",
    "\n",
    "    # Turn spines off and create white grid.\n",
    "    for edge, spine in ax.spines.items():\n",
    "        spine.set_visible(False)\n",
    "\n",
    "    ax.set_xticks(np.arange(data.shape[1]+1)-.5, minor=True)\n",
    "    ax.set_yticks(np.arange(data.shape[0]+1)-.5, minor=True)\n",
    "    ax.grid(which=\"minor\", color=\"w\", linestyle='-', linewidth=3)\n",
    "    ax.tick_params(which=\"minor\", bottom=False, left=False)\n",
    "\n",
    "    return im, cbar\n",
    "\n",
    "\n",
    "def annotate_heatmap(im, data=None, valfmt=\"{x:.2f}\",\n",
    "                     textcolors=[\"black\", \"white\"],\n",
    "                     threshold=None, **textkw):\n",
    "    \"\"\"\n",
    "    A function to annotate a heatmap.\n",
    "\n",
    "    Parameters\n",
    "    ----------\n",
    "    im\n",
    "        The AxesImage to be labeled.\n",
    "    data\n",
    "        Data used to annotate.  If None, the image's data is used.  Optional.\n",
    "    valfmt\n",
    "        The format of the annotations inside the heatmap.  This should either\n",
    "        use the string format method, e.g. \"$ {x:.2f}\", or be a\n",
    "        `matplotlib.ticker.Formatter`.  Optional.\n",
    "    textcolors\n",
    "        A list or array of two color specifications.  The first is used for\n",
    "        values below a threshold, the second for those above.  Optional.\n",
    "    threshold\n",
    "        Value in data units according to which the colors from textcolors are\n",
    "        applied.  If None (the default) uses the middle of the colormap as\n",
    "        separation.  Optional.\n",
    "    **kwargs\n",
    "        All other arguments are forwarded to each call to `text` used to create\n",
    "        the text labels.\n",
    "    \"\"\"\n",
    "\n",
    "    if not isinstance(data, (list, np.ndarray)):\n",
    "        data = im.get_array()\n",
    "\n",
    "    # Normalize the threshold to the images color range.\n",
    "    if threshold is not None:\n",
    "        threshold = im.norm(threshold)\n",
    "    else:\n",
    "        threshold = im.norm(data.max())/2.\n",
    "\n",
    "    # Set default alignment to center, but allow it to be\n",
    "    # overwritten by textkw.\n",
    "    kw = dict(horizontalalignment=\"center\",\n",
    "              verticalalignment=\"center\")\n",
    "    kw.update(textkw)\n",
    "\n",
    "    # Get the formatter in case a string is supplied\n",
    "    if isinstance(valfmt, str):\n",
    "        valfmt = matplotlib.ticker.StrMethodFormatter(valfmt)\n",
    "\n",
    "    # Loop over the data and create a `Text` for each \"pixel\".\n",
    "    # Change the text's color depending on the data.\n",
    "    texts = []\n",
    "    for i in range(data.shape[0]):\n",
    "        for j in range(data.shape[1]):\n",
    "            kw.update(color=textcolors[int(im.norm(data[i, j]) > threshold)])\n",
    "            text = im.axes.text(j, i, valfmt(data[i, j], None), **kw)\n",
    "            texts.append(text)\n",
    "\n",
    "    return texts"
   ]
  },
  {
   "cell_type": "code",
   "execution_count": 1,
   "metadata": {},
   "outputs": [
    {
     "data": {
      "text/plain": [
       "<Figure size 640x480 with 1 Axes>"
      ]
     },
     "metadata": {},
     "output_type": "display_data"
    }
   ],
   "source": [
    "import numpy as np\n",
    "import matplotlib\n",
    "import matplotlib.pyplot as plt\n",
    "# sphinx_gallery_thumbnail_number = 2\n",
    "\n",
    "veg = [\"DT\", \"NB\", \"kNN\", \"SVM\",\n",
    "              \"RF\", \"LR\", \"AB\", \"BG\"]\n",
    "far = [\"Adult\", \"Credit\", \"Absent\",\n",
    "   \"Derma\", \"Wine\", \"Network\", \"Bank\", \"Optic\", \"Diabet\", \"Heart\"]\n",
    "\n",
    "\n",
    "har = np.array([[75.01, 21.3, 100.0, 98.91,  97.97,  100.0, 96.3, 90.17,  74.31,  68.0],\n",
    "                    [71.06, 6.51, 94.59, 89.13,  96.8, 56.6, 6.43, 81.59, 70.14, 76.0],\n",
    "                    [72.39, 39.05,  35.14, 58.7, 93.85, 88.3,  96.53, 98.01, 78.47, 54.67],\n",
    "                    [75.01,  40.83, 47.57,  90.22, 93.72, 98.11,  96.59, 50.73, 66.67, 58.67],\n",
    "                    [74.49, 39.64,  100.0,  98.91, 99.57, 100.0, 98.24, 97.91, 75.0, 72.0],\n",
    "                    [75.11, 39.05, 76.22, 97.83,  97.66,  73.21, 95.39, 96.55, 72.57, 72.0],\n",
    "                    [75.64, 40.24, 35.68, 50.0, 99.51, 74.72, 97.55,  27.62, 74.65, 70.67],\n",
    "                    [74.13, 36.69,  100.0,   96.74,  99.14, 100,  98.29, 95.82 , 77.08, 68.0]])\n",
    "\n",
    "\n",
    "\n",
    "\n",
    "fig, ax = plt.subplots()\n",
    "im = ax.imshow(har)\n",
    "\n",
    "# We want to show all ticks...\n",
    "ax.set_xticks(np.arange(len(far)))\n",
    "ax.set_yticks(np.arange(len(veg)))\n",
    "# ... and label them with the respective list entries\n",
    "ax.set_xticklabels(far)\n",
    "ax.set_yticklabels(veg)\n",
    "\n",
    "# Rotate the tick labels and set their alignment.\n",
    "plt.setp(ax.get_xticklabels(), rotation=45, ha=\"right\",\n",
    "         rotation_mode=\"anchor\")\n",
    "\n",
    "# Loop over data dimensions and create text annotations.\n",
    "for i in range(len(veg)):\n",
    "    for j in range(len(far)):\n",
    "        text = ax.text(j, i, har[i, j],\n",
    "                       ha=\"center\", va=\"center\", color=\"w\")\n",
    "\n",
    "ax.set_title(\"Harvest of local farmers (in tons/year)\")\n",
    "fig.tight_layout()\n",
    "plt.show()\n"
   ]
  },
  {
   "cell_type": "code",
   "execution_count": 11,
   "metadata": {},
   "outputs": [
    {
     "data": {
      "image/png": "[encoded data removed]",
      "text/plain": [
       "<Figure size 1224x504 with 1 Axes>"
      ]
     },
     "metadata": {
      "needs_background": "light"
     },
     "output_type": "display_data"
    }
   ],
   "source": [
    "import numpy as np\n",
    "import matplotlib\n",
    "import matplotlib.pyplot as plt\n",
    "# sphinx_gallery_thumbnail_number = 2\n",
    "\n",
    "veg = [\"DT\", \"NB\", \"kNN\", \"SVM\", \"RF\", \"LR\", \"AB\", \"BG\"]\n",
    "far = [\"DT\", \"NB\", \"kNN\", \"SVM\", \"RF\", \"LR\", \"AB\", \"BG\"]\n",
    "#farmers = [\"Adult\", \"Credit\", \"Absent\", \"Derma\", \"Wine\", \"Network\", \"Bank\", \"Optic\", \"Diabet\", \"Heart\"]\n",
    "\n",
    "\n",
    "#tclose\n",
    "har = np.array([[1, 0.2,0.5, 0.02, 0.17, 0.1, 0.2, 0.76   ],\n",
    "                   [ 0.2, 1, 0.64, 0.2, 0.26, 0.05, 0.13, 0.17   ],\n",
    "                   [ 0.5, 0.64, 1, 0.32, 0.72, 0.04,0.26, 0.64  ],\n",
    "                   [ 0.02, 0.2,0.32, 1, 0.01, 0.37, 0.87, 0.24  ],\n",
    "                   [ 0.17, 0.26,0.72, 0.01, 1, 0.1,0.06, 1  ],\n",
    "                   [ 0.1, 0.05, 0.04, 0.37, 0.1, 1, 0.57, 0.37  ],\n",
    "                   [ 0.2, 0.13, 0.26, 0.87, 0.06, 0.57, 1, 0.26  ],\n",
    "                   [ 0.76, 0.17, 0.64, 0.24,1, 0.37,0.26,1 ] ])\n",
    "\n",
    " \n",
    "#ldiverse\n",
    "#harvest = np.array([[1,   0.006  , 0.021, 0.507,  0.113,  0.005, 0.006, 0.005],\n",
    " #                  [0.006, 1    , 0.168, 0.012,  0.006, 0.721, 0.241, 0.006],\n",
    "  #                 [0.021, 0.168 ,  1, 0.028, 0.036, 0.006,  0.139, 0.028],\n",
    "   #                [0.507, 0.012, 0.028,  1, 0.575, 0.006,  0.006, 0.878],\n",
    "    #              [0.113, 0.006,  0.036, 0.006, 1, 0.005, 0.009, 0.138],\n",
    "     #             [0.005, 0.721, 0.006 , 0.575,  0.005,  1, 0.005, 0.005],\n",
    "      #             [0.006, 0.241, 0.139, 0.006, 0.009, 0.005, 1,  0.009],\n",
    "       #           [0.005, 0.006,  0.028,   0.878,  0.138, 0.005,  0.009, 1]])\n",
    "\n",
    "#kanonym    \n",
    "#harvest = np.array([[ 1, 0.2, 0.2, 0.95, 0.005, 0.016, 0.059, 0.005],\n",
    "#                    [0.2, 1, 0.44, 0.24, 0.64, 0.44, 0.87, 0.5],\n",
    " #                  [ 0.2, 0.44, 1, 0.11, 0.79, 0.005, 0.2, 0.64 ],\n",
    "  #                 [0.95, 0.24, 0.11, 1, 0.38, 0.005, 0.012, 0.64],\n",
    " #                  [ 0.005, 0.64, 0.79, 0.38, 1, 0.11, 0.5, 0.012 ],\n",
    "  #                 [ 0.016, 0.44, 0.005, 0.005, 0.11, 1, 0.13, 0.074],\n",
    "  #                  [ 0.059, 0.87, 0.2, 0.012, 0.5, 0.13, 1, 0.28 ],\n",
    "   #                [ 0.005, 0.5, 0.64, 0.64, 0.012, 0.074, 0.28, 1] ])\n",
    "    \n",
    "\n",
    "#harvest = np.array([[0.8, 2.4, 2.5, 3.9, 0.0, 4.0, 0.0],\n",
    " #                   [2.4, 0.0, 4.0, 1.0, 2.7, 0.0, 0.0],\n",
    "  ##                 [0.6, 0.0, 0.3, 0.0, 3.1, 0.0, 0.0],\n",
    "    #                [0.7, 1.7, 0.6, 2.6, 2.2, 6.2, 0.0],\n",
    "     #               [1.3, 1.2, 0.0, 0.0, 0.0, 3.2, 5.1],\n",
    "      #              [0.1, 2.0, 0.0, 1.4, 0.0, 1.9, 6.3]])\n",
    "\n",
    "\n",
    "fig, ax = plt.subplots()\n",
    "im = ax.imshow(har)\n",
    "# We want to show all ticks...\n",
    "ax.set_xticks(np.arange(len(far)))\n",
    "ax.set_yticks(np.arange(len(veg)))\n",
    "# ... and label them with the respective list entries\n",
    "ax.set_xticklabels(far)\n",
    "ax.set_yticklabels(veg)\n",
    "\n",
    "# Rotate the tick labels and set their alignment.\n",
    "plt.setp(ax.get_xticklabels(),  ha=\"right\",\n",
    "         rotation_mode=\"anchor\")\n",
    "\n",
    "# Loop over data dimensions and create text annotations.\n",
    "for i in range(len(veg)):\n",
    "    for j in range(len(far)):\n",
    "        text = ax.text(j, i, har[i, j],\n",
    "                       ha=\"center\", va=\"center\", color=\"w\")\n",
    "\n",
    "ax.set_title(\"Harvest of local farmers (in tons/year)\")\n",
    "fig.tight_layout()\n",
    "#plt.show()\n"
   ]
  },
  {
   "cell_type": "code",
   "execution_count": 12,
   "metadata": {},
   "outputs": [
    {
     "data": {
      "image/png": "[encoded data removed]",
      "text/plain": [
       "<Figure size 1224x504 with 2 Axes>"
      ]
     },
     "metadata": {
      "needs_background": "light"
     },
     "output_type": "display_data"
    }
   ],
   "source": [
    "fig, ax = plt.subplots()\n",
    "plt.rcParams[\"figure.figsize\"] = (20,7)\n",
    "\n",
    "im, cbar = heatmap(har, veg, far, ax=ax,\n",
    "                   cmap=\"YlGn\", cbarlabel=\"p-value\")\n",
    "texts = annotate_heatmap(im, valfmt=\"{x:.3f} \")\n",
    "\n",
    "fig.tight_layout()\n",
    "plt.show()\n",
    "fig = ax.get_figure()\n"
   ]
  },
  {
   "cell_type": "code",
   "execution_count": 13,
   "metadata": {},
   "outputs": [
    {
     "data": {
      "image/png": "[encoded data removed]",
      "text/plain": [
       "<Figure size 1440x504 with 2 Axes>"
      ]
     },
     "metadata": {
      "needs_background": "light"
     },
     "output_type": "display_data"
    }
   ],
   "source": [
    "fig, ax = plt.subplots()\n",
    "plt.rcParams[\"figure.figsize\"] = (15,15)\n",
    "\n",
    "im, cbar = heatmap(har, veg, far, ax=ax,\n",
    "                   cmap=\"YlGn\", cbarlabel=\"p-value\")\n",
    "texts = annotate_heatmap(im, valfmt=\"{x:.3f} \")\n",
    "\n",
    "fig.tight_layout()\n",
    "plt.show()\n",
    "fig = ax.get_figure()\n"
   ]
  },
  {
   "cell_type": "code",
   "execution_count": null,
   "metadata": {},
   "outputs": [],
   "source": []
  },
  {
   "cell_type": "code",
   "execution_count": 29,
   "metadata": {},
   "outputs": [
    {
     "data": {
      "image/png": "[encoded data removed]",
      "text/plain": [
       "<Figure size 1224x504 with 1 Axes>"
      ]
     },
     "metadata": {
      "needs_background": "light"
     },
     "output_type": "display_data"
    }
   ],
   "source": [
    "import numpy as np\n",
    "import matplotlib.pyplot as plt\n",
    "from matplotlib.pyplot import figure\n",
    "plt.rcParams[\"figure.figsize\"] = (17,7)\n",
    "#plt.style.use('ggplot')\n",
    "n = 10\n",
    "DT= (75.47, 32.54,  61.08, 70.65, 95.2, 100.0, 94.88,  62.34, 65.97,  72.0 )                                                \n",
    "NB= (78.52, 3.55, 61.08, 80.43, 95.02, 66.79,  7.8,  62.03, 69.1,  68.0)\n",
    "kNN = (75.78,  41.42, 34.59, 68.48,  94.28, 93.96, 95.56, 68.41, 73.26, 65.33)\n",
    "SVM = (75.47, 33.14, 61.08, 75.0,  95.08, 98.11, 94.88, 62.66, 65.62, 72.0)\n",
    "RF= (75.26, 28.99, 61.08, 76.09, 95.63, 100.0, 94.76, 64.23, 69.44, 73.33)\n",
    "LR = (77.23, 42.01, 51.89, 80.43, 96.0,  67.17, 95.67, 73.64, 67.71, 69.33)\n",
    "AB = (80.35, 43.79,  38.38, 53.26, 95.45, 74.34, 95.56,  54.6, 68.4, 72.0)\n",
    "BG = (74.27, 24.85, 60.0 , 73.91, 95.14, 100.0, 93.68, 63.39, 65.28, 70.67) \n",
    "\n",
    "\n",
    "\n",
    "fig, ax = plt.subplots()\n",
    "index = np.arange(n)\n",
    "bar_width = 0.09\n",
    "opacity = 0.7\n",
    "ax.bar(index, DT, bar_width, alpha=opacity, color='navy', label='DT')\n",
    "ax.bar(index+bar_width, NB, bar_width, alpha=opacity, color='skyblue', label='NB')\n",
    "ax.bar(index+2*bar_width, kNN, bar_width, alpha=opacity,  color='darkmagenta', label='kNN')\n",
    "ax.bar(index+3*bar_width, SVM, bar_width, alpha=opacity, color='c', label='SVM')\n",
    "ax.bar(index+ 4*bar_width, RF, bar_width, alpha=opacity, color='mediumpurple', label='RF')\n",
    "ax.bar(index+5*bar_width, LR, bar_width, alpha=opacity, color='b', label='LR')\n",
    "ax.bar(index+6*bar_width, AB, bar_width, alpha=opacity, color='palevioletred', label='AB')\n",
    "ax.bar(index+7*bar_width, BG, bar_width, alpha=opacity,color='lightseagreen', label='BG')\n",
    "\n",
    "\n",
    "ax.set_xlabel('Datasets')\n",
    "ax.set_ylabel('Accuracy')\n",
    "#ax.set_title('The Accuracy of Different Classifiers over 2-diverse Datasets')\n",
    "ax.set_xticks(index + bar_width)\n",
    "ax.set_xticklabels(('Adult','Credit','Absent','Derma','Wine', 'Network', 'Bankruptcy', 'Optical', 'Diabetics', 'Heart'))\n",
    "ax.legend(ncol=8)\n",
    "plt.show()\n",
    "\n",
    "#fig = ax.get_figure()\n",
    "#fig.savefig('C:/Users/20184069/Desktop/popets/image/3anonymity22.pdf')"
   ]
  },
  {
   "cell_type": "code",
   "execution_count": null,
   "metadata": {},
   "outputs": [],
   "source": []
  },
  {
   "cell_type": "code",
   "execution_count": 56,
   "metadata": {},
   "outputs": [
    {
     "data": {
      "image/png": "[encoded data removed]",
      "text/plain": [
       "<Figure size 1440x504 with 2 Axes>"
      ]
     },
     "metadata": {
      "needs_background": "light"
     },
     "output_type": "display_data"
    }
   ],
   "source": [
    "fig, ax = plt.subplots()\n",
    "plt.rcParams[\"figure.figsize\"] = (20,7)\n",
    "plt.rcParams.update({'font.size': 12})\n",
    "\n",
    "im, cbar = heatmap(harvest, vegetables, farmers, ax=ax,\n",
    "                   cmap=\"YlGn\", cbarlabel=\"Accuracy\")\n",
    "texts = annotate_heatmap(im, valfmt=\"{x:.2f} \")\n",
    "\n",
    "fig.tight_layout()\n",
    "plt.show()\n",
    "\n",
    "fig = ax.get_figure()\n",
    "fig.savefig('C:/Users/20184069/Desktop/popets/image/heatAccuracyoriginal2.pdf')"
   ]
  },
  {
   "cell_type": "code",
   "execution_count": 65,
   "metadata": {},
   "outputs": [
    {
     "data": {
      "image/png": "[encoded data removed]",
      "text/plain": [
       "<Figure size 1440x504 with 2 Axes>"
      ]
     },
     "metadata": {
      "needs_background": "light"
     },
     "output_type": "display_data"
    }
   ],
   "source": [
    "fig, ax = plt.subplots()\n",
    "plt.rcParams[\"figure.figsize\"] = (20,7)\n",
    "plt.rcParams.update({'font.size': 12})\n",
    "\n",
    "im, cbar = heatmap(harvest, vegetables, farmers, ax=ax,\n",
    "                   cmap=\"YlGn\", cbarlabel=\"Accuracy\")\n",
    "texts = annotate_heatmap(im, valfmt=\"{x:.2f} \")\n",
    "\n",
    "fig.tight_layout()\n",
    "plt.show()\n",
    "\n",
    "fig = ax.get_figure()\n",
    "fig.savefig('C:/Users/20184069/Desktop/popets/image/heatldiverse.pdf')"
   ]
  },
  {
   "cell_type": "code",
   "execution_count": 73,
   "metadata": {},
   "outputs": [
    {
     "data": {
      "image/png": "[encoded data removed]",
      "text/plain": [
       "<Figure size 1440x504 with 2 Axes>"
      ]
     },
     "metadata": {
      "needs_background": "light"
     },
     "output_type": "display_data"
    }
   ],
   "source": [
    "fig, ax = plt.subplots()\n",
    "plt.rcParams[\"figure.figsize\"] = (20,7)\n",
    "\n",
    "plt.rcParams.update({'font.size': 12})\n",
    "im, cbar = heatmap(harvest, vegetables, farmers, ax=ax,\n",
    "                   cmap=\"YlGn\", cbarlabel=\"Accuracy\")\n",
    "texts = annotate_heatmap(im, valfmt=\"{x:.2f} \")\n",
    "\n",
    "fig.tight_layout()\n",
    "plt.show()\n",
    "fig = ax.get_figure()\n",
    "fig.savefig('C:/Users/20184069/Desktop/popets/image/heatclose.pdf')"
   ]
  },
  {
   "cell_type": "code",
   "execution_count": 899,
   "metadata": {},
   "outputs": [
    {
     "data": {
      "image/png": "[encoded data removed]",
      "text/plain": [
       "<Figure size 1224x504 with 1 Axes>"
      ]
     },
     "metadata": {
      "needs_background": "light"
     },
     "output_type": "display_data"
    }
   ],
   "source": [
    "\n",
    "#Original \n",
    "\n",
    "import numpy as np\n",
    "import matplotlib.pyplot as plt\n",
    "from matplotlib.pyplot import figure\n",
    "plt.rcParams[\"figure.figsize\"] = (17,7)\n",
    "#plt.style.use('ggplot')\n",
    "n = 10\n",
    "DT = (75.01, 21.3, 100.0, 98.91,  97.97,  100.0, 96.3, 90.17,  74.31,  68.0 )                                     \n",
    "NB = (71.06, 6.51, 94.59, 89.13,  96.8, 56.6, 6.43, 81.59, 70.14, 76.0)\n",
    "kNN= (72.39, 39.05,  35.14, 58.7, 93.85, 88.3,  96.53, 98.01, 78.47, 54.67)\n",
    "SVM=(75.01,  40.83, 47.57,  90.22, 93.72, 98.11,  96.59, 50.73, 66.67, 58.67 )\n",
    "RF = (74.49, 39.64,  100.0,  98.91, 99.57, 100.0, 98.24, 97.91, 75.0, 72.0)\n",
    "LR =( 75.11, 39.05, 76.22, 97.83,  97.66,  73.21, 95.39, 96.55, 72.57, 72.0 )\n",
    "AB =(75.64, 40.24, 35.68, 50.0, 99.51, 74.72, 97.55,  27.62, 74.65, 70.67)\n",
    "BG =( 74.13, 36.69,  100.0,   96.74,  99.14, 100,  98.29, 95.82 , 77.08, 68.0) \n",
    "\n",
    "\n",
    "\n",
    "fig, ax = plt.subplots()\n",
    "index = np.arange(n)\n",
    "bar_width = 0.09\n",
    "opacity = 0.7\n",
    "ax.bar(index, DT, bar_width, alpha=opacity, color='navy', label='DT')\n",
    "ax.bar(index+bar_width, NB, bar_width, alpha=opacity, color='skyblue', label='NB')\n",
    "ax.bar(index+2*bar_width, kNN, bar_width, alpha=opacity,  color='darkmagenta', label='kNN')\n",
    "ax.bar(index+3*bar_width, SVM, bar_width, alpha=opacity, color='c', label='SVM')\n",
    "ax.bar(index+ 4*bar_width, RF, bar_width, alpha=opacity, color='mediumpurple', label='RF')\n",
    "ax.bar(index+5*bar_width, LR, bar_width, alpha=opacity, color='b', label='LR')\n",
    "ax.bar(index+6*bar_width, AB, bar_width, alpha=opacity, color='palevioletred', label='AB')\n",
    "ax.bar(index+7*bar_width, BG, bar_width, alpha=opacity,color='lightseagreen', label='BG')\n",
    "\n",
    "\n",
    "ax.set_xlabel('Datasets')\n",
    "ax.set_ylabel('Accuracy')\n",
    "#ax.set_title('The Accuracy of Different Classifiers over 2-diverse Datasets')\n",
    "ax.set_xticks(index + bar_width)\n",
    "ax.set_xticklabels(('Adult','Credit','Absent','Derma','Wine', 'Network', 'Bankruptcy', 'Optical', 'Diabetics', 'Heart'))\n",
    "ax.legend(ncol=8)\n",
    "plt.show()\n",
    "\n",
    "#fig = ax.get_figure()\n",
    "#fig.savefig('C:/Users/20184069/Desktop/popets/image/oroginal.pdf')"
   ]
  },
  {
   "cell_type": "code",
   "execution_count": 907,
   "metadata": {},
   "outputs": [
    {
     "data": {
      "image/png": "[encoded data removed]",
      "text/plain": [
       "<Figure size 1224x504 with 1 Axes>"
      ]
     },
     "metadata": {
      "needs_background": "light"
     },
     "output_type": "display_data"
    }
   ],
   "source": [
    "#k-anonymity \n",
    "\n",
    "import numpy as np\n",
    "import matplotlib.pyplot as plt\n",
    "from matplotlib.pyplot import figure\n",
    "plt.rcParams[\"figure.figsize\"] = (17,7)\n",
    "#plt.style.use('ggplot')\n",
    "n = 10\n",
    "\n",
    "DT = (44.35, 11.62, 47.57, 54.69, 90.93, 73.11,  95.6,  45.45, 49.64, 55.65)                                                                   \n",
    "NB = (77.01, 1.98, 62.67, 69.35, 95.51, 65.28, 7.39, 61.42,  67.02, 74.26)\n",
    "kNN = (65.63, 40.9, 13.8, 58.32, 90.73, 62.26, 96.04, 64.57, 62.51, 57.54)\n",
    "SVM= (53.55, 18.21, 20.95, 68.4, 89.55, 50.94, 96.0, 25.95, 53.8, 58.92)\n",
    "RF = (48.95, 14.02, 56.52, 64.37, 92.94, 75.94, 97.45, 54.06, 52.33, 63.97)\n",
    "LR = (76.53, 44.14, 46.42, 73.81, 96.28, 63.21, 95.79, 68.75, 63.02, 73.58)\n",
    "AB= (75.77, 50.39, 32.7, 70.08, 95.8, 69.34, 96.83, 50.68, 59.9, 56.98)\n",
    "BG= (48.35, 12.91,  54.0,  60.88, 92.74, 76.42,  97.75, 52.26, 51.47,  62.63)  \n",
    "\n",
    "\n",
    "fig, ax = plt.subplots()\n",
    "index = np.arange(n)\n",
    "bar_width = 0.09\n",
    "opacity = 0.7\n",
    "ax.bar(index, DT, bar_width, alpha=opacity, color='navy', label='DT')\n",
    "ax.bar(index+bar_width, NB, bar_width, alpha=opacity, color='skyblue', label='NB')\n",
    "ax.bar(index+2*bar_width, kNN, bar_width, alpha=opacity,  color='darkmagenta', label='kNN')\n",
    "ax.bar(index+3*bar_width, SVM, bar_width, alpha=opacity, color='c', label='SVM')\n",
    "ax.bar(index+ 4*bar_width, RF, bar_width, alpha=opacity, color='mediumpurple', label='RF')\n",
    "ax.bar(index+5*bar_width, LR, bar_width, alpha=opacity, color='b', label='LR')\n",
    "ax.bar(index+6*bar_width, AB, bar_width, alpha=opacity, color='palevioletred', label='AB')\n",
    "ax.bar(index+7*bar_width, BG, bar_width, alpha=opacity,color='lightseagreen', label='BG')\n",
    "\n",
    "\n",
    "ax.set_xlabel('Datasets')\n",
    "ax.set_ylabel('Accuracy')\n",
    "#ax.set_title('The Accuracy of Different Classifiers over 2-diverse Datasets')\n",
    "ax.set_xticks(index + bar_width)\n",
    "ax.set_xticklabels(('Adult','Credit','Absent','Derma','Wine', 'Network', 'Bankruptcy', 'Optical', 'Diabetics', 'Heart'))\n",
    "ax.legend(ncol=8)\n",
    "plt.show()\n",
    "\n",
    "#fig = ax.get_figure()\n",
    "#fig.savefig('C:/Users/20184069/Desktop/popets/image/crosskanonym.pdf')"
   ]
  },
  {
   "cell_type": "code",
   "execution_count": 908,
   "metadata": {},
   "outputs": [
    {
     "data": {
      "image/png": "[encoded data removed]",
      "text/plain": [
       "<Figure size 1224x504 with 1 Axes>"
      ]
     },
     "metadata": {
      "needs_background": "light"
     },
     "output_type": "display_data"
    }
   ],
   "source": [
    "#l-diversity \n",
    "\n",
    "import numpy as np\n",
    "import matplotlib.pyplot as plt\n",
    "from matplotlib.pyplot import figure\n",
    "plt.rcParams[\"figure.figsize\"] = (17,7)\n",
    "#plt.style.use('ggplot')\n",
    "n = 10\n",
    "DT=(20.15, 6.28,  31.3, 41.65, 27.13, 30.85, 22.22, 32.65, 25.8, 42.79)                                                                                 \n",
    "NB = (76.36, 2.4, 51.88,  60.45, 93.79, 54.91, 71.77,  56.96, 64.77,  70.21)\n",
    "kNN= (47.75, 38.84, 18.8, 43.92, 79.14, 28.87,  83.5, 58.43, 59.12, 51.11)\n",
    "SVM= (20.05, 8.39, 17.51, 65.11, 52.8, 30.38, 24.57, 20.69, 28.22, 40.82)\n",
    "RF = (20.09, 7.15, 36.48, 44.04, 26.66, 31.32, 21.99,  38.9, 25.45, 43.14)\n",
    "LR= (76.25, 44.9, 39.65, 63.28, 94.33, 41.7, 95.43, 62.96, 58.87, 69.23)\n",
    "AB =(72.99, 53.37, 30.03, 61.67, 86.09, 43.87, 81.99, 50.99, 47.84, 44.79)\n",
    "BG =(20.47, 6.82,  37.04, 42.97,  28.37, 31.32, 29.54, 37.65, 26.92, 44.47)  \n",
    "\n",
    "\n",
    "\n",
    "fig, ax = plt.subplots()\n",
    "index = np.arange(n)\n",
    "bar_width = 0.09\n",
    "opacity = 0.7\n",
    "ax.bar(index, DT, bar_width, alpha=opacity, color='navy', label='DT')\n",
    "ax.bar(index+bar_width, NB, bar_width, alpha=opacity, color='skyblue', label='NB')\n",
    "ax.bar(index+2*bar_width, kNN, bar_width, alpha=opacity,  color='darkmagenta', label='kNN')\n",
    "ax.bar(index+3*bar_width, SVM, bar_width, alpha=opacity, color='c', label='SVM')\n",
    "ax.bar(index+ 4*bar_width, RF, bar_width, alpha=opacity, color='mediumpurple', label='RF')\n",
    "ax.bar(index+5*bar_width, LR, bar_width, alpha=opacity, color='b', label='LR')\n",
    "ax.bar(index+6*bar_width, AB, bar_width, alpha=opacity, color='palevioletred', label='AB')\n",
    "ax.bar(index+7*bar_width, BG, bar_width, alpha=opacity,color='lightseagreen', label='BG')\n",
    "\n",
    "\n",
    "ax.set_xlabel('Datasets')\n",
    "ax.set_ylabel('Accuracy')\n",
    "#ax.set_title('The Accuracy of Different Classifiers over 2-diverse Datasets')\n",
    "ax.set_xticks(index + bar_width)\n",
    "ax.set_xticklabels(('Adult','Credit','Absent','Derma','Wine', 'Network', 'Bankruptcy', 'Optical', 'Diabetics', 'Heart'))\n",
    "ax.legend(ncol=8)\n",
    "plt.show()\n",
    "\n",
    "#fig = ax.get_figure()\n",
    "#fig.savefig('C:/Users/20184069/Desktop/popets/image/crossldiverse.pdf')"
   ]
  },
  {
   "cell_type": "code",
   "execution_count": 909,
   "metadata": {},
   "outputs": [
    {
     "data": {
      "image/png": "[encoded data removed]",
      "text/plain": [
       "<Figure size 1224x504 with 1 Axes>"
      ]
     },
     "metadata": {
      "needs_background": "light"
     },
     "output_type": "display_data"
    }
   ],
   "source": [
    "# t-closeness\n",
    "\n",
    "import numpy as np\n",
    "import matplotlib.pyplot as plt\n",
    "from matplotlib.pyplot import figure\n",
    "plt.rcParams[\"figure.figsize\"] = (17,7)\n",
    "#plt.style.use('ggplot')\n",
    "n = 10\n",
    "\n",
    "DT=(62.88, 2.52,  9.16, 26.18, 48.46, 22.45, 76.1,  9.73, 59.35, 48.08)                                                             \n",
    "NB= (72.04, 0.67, 17.76, 20.89, 69.28,  25.57, 7.86,  16.95, 68.38, 55.13)\n",
    "kNN =(63.68,  16.45, 9.14, 30.18, 37.57, 20.66, 95.5, 7.09, 61.7, 43.83)\n",
    "SVM=(65.85, 3.18, 10.69, 29.22, 50.39, 22.45, 78.98, 9.04, 59.52,  51.44)\n",
    "RF= (64.06, 2.59, 10.3, 28.96, 49.48, 22.45, 78.04, 10.43, 59.44, 49.06)\n",
    "LR=(74.58, 47.32, 20.58, 26.18, 65.97, 37.26, 95.66, 10.22, 58.83, 65.85)\n",
    "AB=(73.44, 51.74, 18.29, 21.62, 60.09, 16.6,  91.51,  12.82, 59.44, 49.4)\n",
    "BG=(62.59, 2.86, 9.37, 28.67, 49.0, 22.45, 80.18, 9.8, 59.61,  49.06)\n",
    "\n",
    "\n",
    "fig, ax = plt.subplots()\n",
    "index = np.arange(n)\n",
    "bar_width = 0.09\n",
    "opacity = 0.7\n",
    "ax.bar(index, DT, bar_width, alpha=opacity, color='navy', label='DT')\n",
    "ax.bar(index+bar_width, NB, bar_width, alpha=opacity, color='skyblue', label='NB')\n",
    "ax.bar(index+2*bar_width, kNN, bar_width, alpha=opacity,  color='darkmagenta', label='kNN')\n",
    "ax.bar(index+3*bar_width, SVM, bar_width, alpha=opacity, color='c', label='SVM')\n",
    "ax.bar(index+ 4*bar_width, RF, bar_width, alpha=opacity, color='mediumpurple', label='RF')\n",
    "ax.bar(index+5*bar_width, LR, bar_width, alpha=opacity, color='b', label='LR')\n",
    "ax.bar(index+6*bar_width, AB, bar_width, alpha=opacity, color='palevioletred', label='AB')\n",
    "ax.bar(index+7*bar_width, BG, bar_width, alpha=opacity,color='lightseagreen', label='BG')\n",
    "\n",
    "\n",
    "ax.set_xlabel('Datasets')\n",
    "ax.set_ylabel('Accuracy')\n",
    "#ax.set_title('The Accuracy of Different Classifiers over 2-diverse Datasets')\n",
    "ax.set_xticks(index + bar_width)\n",
    "ax.set_xticklabels(('Adult','Credit','Absent','Derma','Wine', 'Network', 'Bankruptcy', 'Optical', 'Diabetics', 'Heart'))\n",
    "ax.legend(ncol=8)\n",
    "plt.show()\n",
    "\n",
    "#fig = ax.get_figure()\n",
    "#fig.savefig('C:/Users/20184069/Desktop/popets/image/crosstclose.pdf')"
   ]
  },
  {
   "cell_type": "code",
   "execution_count": null,
   "metadata": {},
   "outputs": [],
   "source": []
  },
  {
   "cell_type": "code",
   "execution_count": null,
   "metadata": {},
   "outputs": [],
   "source": []
  },
  {
   "cell_type": "code",
   "execution_count": null,
   "metadata": {},
   "outputs": [],
   "source": []
  },
  {
   "cell_type": "code",
   "execution_count": 41,
   "metadata": {},
   "outputs": [
    {
     "data": {
      "text/plain": [
       "<matplotlib.axes._subplots.AxesSubplot at 0x13cf57de088>"
      ]
     },
     "execution_count": 41,
     "metadata": {},
     "output_type": "execute_result"
    },
    {
     "data": {
      "image/png": "[encoded data removed]",
      "text/plain": [
       "<Figure size 1080x576 with 1 Axes>"
      ]
     },
     "metadata": {
      "needs_background": "light"
     },
     "output_type": "display_data"
    }
   ],
   "source": [
    "import seaborn as sns\n",
    "import pandas as pd\n",
    "import matplotlib.pyplot as plt\n",
    "from matplotlib.pyplot import figure\n",
    "plt.rcParams[\"figure.figsize\"] = (15, 8)\n",
    "plt.rcParams.update({'font.size': 22})\n",
    "\n",
    "df = pd.DataFrame(\n",
    "[\n",
    "[83.11, 79.96 , 77.338  , 68.71 , 2],\n",
    "[69.70, 67.40,  68.726, 59.71, 2],\n",
    "[ 79, 80.04, 78.91, 70.89, 2 ],\n",
    "[ 74.11, 79.87 , 77.51, 68.86, 2 ],\n",
    "[ 84.62, 80.20, 77.67, 68.44 , 2 ],\n",
    " [ 83.04, 80.05, 81.07, 71.49, 2 ],\n",
    "[ 84.92, 81.68, 78.80, 69.60, 2 ],    \n",
    "[ 85.04, 79.03, 77.67, 69.02, 2 ],\n",
    "[ 82.98, 67.93, 49.34, 26.10, 3 ],\n",
    "[76.592 , 58.60 , 50.45 , 19.44, 3 ],\n",
    "[61.454 ,63.45 , 48.47 , 23.77 , 3 ],\n",
    "[67.12 , 68.56, 52.81, 26.1, 3 ],\n",
    "[85.11 , 69.04 , 50.89, 25.73, 3 ],\n",
    "[74.22 , 64.72 , 52.04, 26.93, 3 ],\n",
    "[39.76 , 56.46 , 44.97, 26.76, 3 ],\n",
    "[ 84.71, 67.91 , 48.91 , 25.62, 3 ]\n",
    "], columns=['original', 'k-anonymity', 'l-diversity', 't-closeness', 'b'])\n",
    "\n",
    "df_long = pd.melt(df, \"b\", var_name=\" \", value_name=\"Performance\")\n",
    "sns.boxplot(x=\" \", hue=\"b\", y=\"Performance\", data=df_long)\n",
    "\n",
    "\n",
    "\n"
   ]
  },
  {
   "cell_type": "code",
   "execution_count": null,
   "metadata": {},
   "outputs": [],
   "source": []
  }
 ],
 "metadata": {
  "kernelspec": {
   "display_name": "Python 3",
   "language": "python",
   "name": "python3"
  },
  "language_info": {
   "codemirror_mode": {
    "name": "ipython",
    "version": 3
   },
   "file_extension": ".py",
   "mimetype": "text/x-python",
   "name": "python",
   "nbconvert_exporter": "python",
   "pygments_lexer": "ipython3",
   "version": "3.7.4"
  }
 },
 "nbformat": 4,
 "nbformat_minor": 2
}
